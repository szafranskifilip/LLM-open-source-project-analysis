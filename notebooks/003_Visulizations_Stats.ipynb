{
 "cells": [
  {
   "cell_type": "code",
   "execution_count": 81,
   "metadata": {},
   "outputs": [],
   "source": [
    "# Import libraries\n",
    "import pandas as pd\n",
    "import matplotlib.pyplot as plt\n",
    "import seaborn as sns\n",
    "import plotly.express as px"
   ]
  },
  {
   "cell_type": "markdown",
   "metadata": {},
   "source": [
    "### Load Data"
   ]
  },
  {
   "cell_type": "code",
   "execution_count": 2,
   "metadata": {},
   "outputs": [
    {
     "data": {
      "text/html": [
       "<div>\n",
       "<style scoped>\n",
       "    .dataframe tbody tr th:only-of-type {\n",
       "        vertical-align: middle;\n",
       "    }\n",
       "\n",
       "    .dataframe tbody tr th {\n",
       "        vertical-align: top;\n",
       "    }\n",
       "\n",
       "    .dataframe thead th {\n",
       "        text-align: right;\n",
       "    }\n",
       "</style>\n",
       "<table border=\"1\" class=\"dataframe\">\n",
       "  <thead>\n",
       "    <tr style=\"text-align: right;\">\n",
       "      <th></th>\n",
       "      <th>name</th>\n",
       "      <th>full_name</th>\n",
       "      <th>topics</th>\n",
       "      <th>description</th>\n",
       "      <th>created_at</th>\n",
       "      <th>stargazers_count</th>\n",
       "      <th>forks_count</th>\n",
       "      <th>license</th>\n",
       "      <th>days_since_created</th>\n",
       "      <th>forks_day</th>\n",
       "      <th>stars_day</th>\n",
       "    </tr>\n",
       "  </thead>\n",
       "  <tbody>\n",
       "    <tr>\n",
       "      <th>0</th>\n",
       "      <td>langchain</td>\n",
       "      <td>langchain-ai/langchain</td>\n",
       "      <td>no topic</td>\n",
       "      <td>🦜🔗 Build context-aware reasoning applications</td>\n",
       "      <td>2022-10-17</td>\n",
       "      <td>81425</td>\n",
       "      <td>12434</td>\n",
       "      <td>MIT License</td>\n",
       "      <td>538</td>\n",
       "      <td>23.0</td>\n",
       "      <td>151.0</td>\n",
       "    </tr>\n",
       "    <tr>\n",
       "      <th>1</th>\n",
       "      <td>ChatGPT-Next-Web</td>\n",
       "      <td>ChatGPTNextWeb/ChatGPT-Next-Web</td>\n",
       "      <td>chatgpt, cross-platform, desktop, fe, gemini, ...</td>\n",
       "      <td>A cross-platform ChatGPT/Gemini UI (Web / PWA ...</td>\n",
       "      <td>2023-03-10</td>\n",
       "      <td>66548</td>\n",
       "      <td>54259</td>\n",
       "      <td>MIT License</td>\n",
       "      <td>394</td>\n",
       "      <td>138.0</td>\n",
       "      <td>169.0</td>\n",
       "    </tr>\n",
       "    <tr>\n",
       "      <th>2</th>\n",
       "      <td>awesome-machine-learning</td>\n",
       "      <td>josephmisiti/awesome-machine-learning</td>\n",
       "      <td>no topic</td>\n",
       "      <td>A curated list of awesome Machine Learning fra...</td>\n",
       "      <td>2014-07-15</td>\n",
       "      <td>63304</td>\n",
       "      <td>14447</td>\n",
       "      <td>Other</td>\n",
       "      <td>3554</td>\n",
       "      <td>4.0</td>\n",
       "      <td>18.0</td>\n",
       "    </tr>\n",
       "    <tr>\n",
       "      <th>3</th>\n",
       "      <td>awesome-cpp</td>\n",
       "      <td>fffaraz/awesome-cpp</td>\n",
       "      <td>awesome, awesome-list, c, c-plus-plus, cpp, cp...</td>\n",
       "      <td>A curated list of awesome C++ (or C) framework...</td>\n",
       "      <td>2014-07-17</td>\n",
       "      <td>55101</td>\n",
       "      <td>7613</td>\n",
       "      <td>MIT License</td>\n",
       "      <td>3552</td>\n",
       "      <td>2.0</td>\n",
       "      <td>16.0</td>\n",
       "    </tr>\n",
       "    <tr>\n",
       "      <th>4</th>\n",
       "      <td>llama.cpp</td>\n",
       "      <td>ggerganov/llama.cpp</td>\n",
       "      <td>ggml, llama</td>\n",
       "      <td>LLM inference in C/C++</td>\n",
       "      <td>2023-03-10</td>\n",
       "      <td>54581</td>\n",
       "      <td>7703</td>\n",
       "      <td>MIT License</td>\n",
       "      <td>394</td>\n",
       "      <td>20.0</td>\n",
       "      <td>139.0</td>\n",
       "    </tr>\n",
       "    <tr>\n",
       "      <th>...</th>\n",
       "      <td>...</td>\n",
       "      <td>...</td>\n",
       "      <td>...</td>\n",
       "      <td>...</td>\n",
       "      <td>...</td>\n",
       "      <td>...</td>\n",
       "      <td>...</td>\n",
       "      <td>...</td>\n",
       "      <td>...</td>\n",
       "      <td>...</td>\n",
       "      <td>...</td>\n",
       "    </tr>\n",
       "    <tr>\n",
       "      <th>512</th>\n",
       "      <td>awesome-transformer-nlp</td>\n",
       "      <td>cedrickchee/awesome-transformer-nlp</td>\n",
       "      <td>attention-mechanism, awesome, awesome-list, be...</td>\n",
       "      <td>A curated list of NLP resources focused on Tra...</td>\n",
       "      <td>2019-01-13</td>\n",
       "      <td>1022</td>\n",
       "      <td>122</td>\n",
       "      <td>MIT License</td>\n",
       "      <td>1911</td>\n",
       "      <td>0.0</td>\n",
       "      <td>1.0</td>\n",
       "    </tr>\n",
       "    <tr>\n",
       "      <th>513</th>\n",
       "      <td>awesome_LLMs_interview_notes</td>\n",
       "      <td>jackaduma/awesome_LLMs_interview_notes</td>\n",
       "      <td>ai, interview-practice, interview-preparation,...</td>\n",
       "      <td>LLMs interview notes and answers:该仓库主要记录大模型（LL...</td>\n",
       "      <td>2023-09-21</td>\n",
       "      <td>1019</td>\n",
       "      <td>161</td>\n",
       "      <td>MIT License</td>\n",
       "      <td>199</td>\n",
       "      <td>1.0</td>\n",
       "      <td>5.0</td>\n",
       "    </tr>\n",
       "    <tr>\n",
       "      <th>514</th>\n",
       "      <td>chameleon-llm</td>\n",
       "      <td>lupantech/chameleon-llm</td>\n",
       "      <td>ai, chatgpt, gpt-4, llm, openai, python, tool</td>\n",
       "      <td>Codes for \"Chameleon: Plug-and-Play Compositio...</td>\n",
       "      <td>2023-04-19</td>\n",
       "      <td>1009</td>\n",
       "      <td>84</td>\n",
       "      <td>Apache License 2.0</td>\n",
       "      <td>354</td>\n",
       "      <td>0.0</td>\n",
       "      <td>3.0</td>\n",
       "    </tr>\n",
       "    <tr>\n",
       "      <th>515</th>\n",
       "      <td>bramses-highly-opinionated-vault-2023</td>\n",
       "      <td>bramses/bramses-highly-opinionated-vault-2023</td>\n",
       "      <td>obsidian-md</td>\n",
       "      <td>A highly opinionated, fully featured Obsidian ...</td>\n",
       "      <td>2022-12-08</td>\n",
       "      <td>1009</td>\n",
       "      <td>49</td>\n",
       "      <td>MIT License</td>\n",
       "      <td>486</td>\n",
       "      <td>0.0</td>\n",
       "      <td>2.0</td>\n",
       "    </tr>\n",
       "    <tr>\n",
       "      <th>516</th>\n",
       "      <td>offensive-ai-compilation</td>\n",
       "      <td>jiep/offensive-ai-compilation</td>\n",
       "      <td>adversarial-machine-learning, ai-security, art...</td>\n",
       "      <td>A curated list of useful resources that cover ...</td>\n",
       "      <td>2023-01-28</td>\n",
       "      <td>1002</td>\n",
       "      <td>98</td>\n",
       "      <td>Creative Commons Attribution Share Alike 4.0 I...</td>\n",
       "      <td>435</td>\n",
       "      <td>0.0</td>\n",
       "      <td>2.0</td>\n",
       "    </tr>\n",
       "  </tbody>\n",
       "</table>\n",
       "<p>517 rows × 11 columns</p>\n",
       "</div>"
      ],
      "text/plain": [
       "                                      name  \\\n",
       "0                                langchain   \n",
       "1                         ChatGPT-Next-Web   \n",
       "2                 awesome-machine-learning   \n",
       "3                              awesome-cpp   \n",
       "4                                llama.cpp   \n",
       "..                                     ...   \n",
       "512                awesome-transformer-nlp   \n",
       "513           awesome_LLMs_interview_notes   \n",
       "514                          chameleon-llm   \n",
       "515  bramses-highly-opinionated-vault-2023   \n",
       "516               offensive-ai-compilation   \n",
       "\n",
       "                                         full_name  \\\n",
       "0                           langchain-ai/langchain   \n",
       "1                  ChatGPTNextWeb/ChatGPT-Next-Web   \n",
       "2            josephmisiti/awesome-machine-learning   \n",
       "3                              fffaraz/awesome-cpp   \n",
       "4                              ggerganov/llama.cpp   \n",
       "..                                             ...   \n",
       "512            cedrickchee/awesome-transformer-nlp   \n",
       "513         jackaduma/awesome_LLMs_interview_notes   \n",
       "514                        lupantech/chameleon-llm   \n",
       "515  bramses/bramses-highly-opinionated-vault-2023   \n",
       "516                  jiep/offensive-ai-compilation   \n",
       "\n",
       "                                                topics  \\\n",
       "0                                             no topic   \n",
       "1    chatgpt, cross-platform, desktop, fe, gemini, ...   \n",
       "2                                             no topic   \n",
       "3    awesome, awesome-list, c, c-plus-plus, cpp, cp...   \n",
       "4                                          ggml, llama   \n",
       "..                                                 ...   \n",
       "512  attention-mechanism, awesome, awesome-list, be...   \n",
       "513  ai, interview-practice, interview-preparation,...   \n",
       "514      ai, chatgpt, gpt-4, llm, openai, python, tool   \n",
       "515                                        obsidian-md   \n",
       "516  adversarial-machine-learning, ai-security, art...   \n",
       "\n",
       "                                           description  created_at  \\\n",
       "0        🦜🔗 Build context-aware reasoning applications  2022-10-17   \n",
       "1    A cross-platform ChatGPT/Gemini UI (Web / PWA ...  2023-03-10   \n",
       "2    A curated list of awesome Machine Learning fra...  2014-07-15   \n",
       "3    A curated list of awesome C++ (or C) framework...  2014-07-17   \n",
       "4                               LLM inference in C/C++  2023-03-10   \n",
       "..                                                 ...         ...   \n",
       "512  A curated list of NLP resources focused on Tra...  2019-01-13   \n",
       "513  LLMs interview notes and answers:该仓库主要记录大模型（LL...  2023-09-21   \n",
       "514  Codes for \"Chameleon: Plug-and-Play Compositio...  2023-04-19   \n",
       "515  A highly opinionated, fully featured Obsidian ...  2022-12-08   \n",
       "516  A curated list of useful resources that cover ...  2023-01-28   \n",
       "\n",
       "     stargazers_count  forks_count  \\\n",
       "0               81425        12434   \n",
       "1               66548        54259   \n",
       "2               63304        14447   \n",
       "3               55101         7613   \n",
       "4               54581         7703   \n",
       "..                ...          ...   \n",
       "512              1022          122   \n",
       "513              1019          161   \n",
       "514              1009           84   \n",
       "515              1009           49   \n",
       "516              1002           98   \n",
       "\n",
       "                                               license  days_since_created  \\\n",
       "0                                          MIT License                 538   \n",
       "1                                          MIT License                 394   \n",
       "2                                                Other                3554   \n",
       "3                                          MIT License                3552   \n",
       "4                                          MIT License                 394   \n",
       "..                                                 ...                 ...   \n",
       "512                                        MIT License                1911   \n",
       "513                                        MIT License                 199   \n",
       "514                                 Apache License 2.0                 354   \n",
       "515                                        MIT License                 486   \n",
       "516  Creative Commons Attribution Share Alike 4.0 I...                 435   \n",
       "\n",
       "     forks_day  stars_day  \n",
       "0         23.0      151.0  \n",
       "1        138.0      169.0  \n",
       "2          4.0       18.0  \n",
       "3          2.0       16.0  \n",
       "4         20.0      139.0  \n",
       "..         ...        ...  \n",
       "512        0.0        1.0  \n",
       "513        1.0        5.0  \n",
       "514        0.0        3.0  \n",
       "515        0.0        2.0  \n",
       "516        0.0        2.0  \n",
       "\n",
       "[517 rows x 11 columns]"
      ]
     },
     "execution_count": 2,
     "metadata": {},
     "output_type": "execute_result"
    }
   ],
   "source": [
    "df_final = pd.read_csv('../data/github_final.csv')\n",
    "df_final"
   ]
  },
  {
   "cell_type": "code",
   "execution_count": 13,
   "metadata": {},
   "outputs": [
    {
     "data": {
      "text/html": [
       "<div>\n",
       "<style scoped>\n",
       "    .dataframe tbody tr th:only-of-type {\n",
       "        vertical-align: middle;\n",
       "    }\n",
       "\n",
       "    .dataframe tbody tr th {\n",
       "        vertical-align: top;\n",
       "    }\n",
       "\n",
       "    .dataframe thead th {\n",
       "        text-align: right;\n",
       "    }\n",
       "</style>\n",
       "<table border=\"1\" class=\"dataframe\">\n",
       "  <thead>\n",
       "    <tr style=\"text-align: right;\">\n",
       "      <th></th>\n",
       "      <th>name</th>\n",
       "      <th>full_name</th>\n",
       "      <th>topics</th>\n",
       "      <th>description</th>\n",
       "      <th>created_at</th>\n",
       "      <th>stargazers_count</th>\n",
       "      <th>forks_count</th>\n",
       "      <th>license</th>\n",
       "      <th>days_since_created</th>\n",
       "      <th>forks_day</th>\n",
       "      <th>stars_day</th>\n",
       "    </tr>\n",
       "  </thead>\n",
       "  <tbody>\n",
       "    <tr>\n",
       "      <th>456</th>\n",
       "      <td>FreeAskInternet</td>\n",
       "      <td>nashsu/FreeAskInternet</td>\n",
       "      <td>no topic</td>\n",
       "      <td>FreeAskInternet is a completely free, private ...</td>\n",
       "      <td>2024-04-05</td>\n",
       "      <td>1247</td>\n",
       "      <td>102</td>\n",
       "      <td>Apache License 2.0</td>\n",
       "      <td>2</td>\n",
       "      <td>51.0</td>\n",
       "      <td>624.0</td>\n",
       "    </tr>\n",
       "    <tr>\n",
       "      <th>203</th>\n",
       "      <td>LLocalSearch</td>\n",
       "      <td>nilsherzig/LLocalSearch</td>\n",
       "      <td>llm, search-engine</td>\n",
       "      <td>LLocalSearch is a completely locally running s...</td>\n",
       "      <td>2024-03-23</td>\n",
       "      <td>3658</td>\n",
       "      <td>184</td>\n",
       "      <td>Apache License 2.0</td>\n",
       "      <td>15</td>\n",
       "      <td>12.0</td>\n",
       "      <td>244.0</td>\n",
       "    </tr>\n",
       "    <tr>\n",
       "      <th>169</th>\n",
       "      <td>openui</td>\n",
       "      <td>wandb/openui</td>\n",
       "      <td>no topic</td>\n",
       "      <td>OpenUI let's you describe UI using your imagin...</td>\n",
       "      <td>2024-03-17</td>\n",
       "      <td>4541</td>\n",
       "      <td>388</td>\n",
       "      <td>Apache License 2.0</td>\n",
       "      <td>21</td>\n",
       "      <td>18.0</td>\n",
       "      <td>216.0</td>\n",
       "    </tr>\n",
       "    <tr>\n",
       "      <th>5</th>\n",
       "      <td>ollama</td>\n",
       "      <td>ollama/ollama</td>\n",
       "      <td>go, golang, llama, llama2, llm, llms, mistral,...</td>\n",
       "      <td>Get up and running with Llama 2, Mistral, Gemm...</td>\n",
       "      <td>2023-06-26</td>\n",
       "      <td>53219</td>\n",
       "      <td>3691</td>\n",
       "      <td>MIT License</td>\n",
       "      <td>286</td>\n",
       "      <td>13.0</td>\n",
       "      <td>186.0</td>\n",
       "    </tr>\n",
       "    <tr>\n",
       "      <th>317</th>\n",
       "      <td>dbrx</td>\n",
       "      <td>databricks/dbrx</td>\n",
       "      <td>databricks, gen-ai, generative-ai, llm, llm-in...</td>\n",
       "      <td>Code examples and resources for DBRX, a large ...</td>\n",
       "      <td>2024-03-26</td>\n",
       "      <td>2174</td>\n",
       "      <td>203</td>\n",
       "      <td>Other</td>\n",
       "      <td>12</td>\n",
       "      <td>17.0</td>\n",
       "      <td>181.0</td>\n",
       "    </tr>\n",
       "    <tr>\n",
       "      <th>1</th>\n",
       "      <td>ChatGPT-Next-Web</td>\n",
       "      <td>ChatGPTNextWeb/ChatGPT-Next-Web</td>\n",
       "      <td>chatgpt, cross-platform, desktop, fe, gemini, ...</td>\n",
       "      <td>A cross-platform ChatGPT/Gemini UI (Web / PWA ...</td>\n",
       "      <td>2023-03-10</td>\n",
       "      <td>66548</td>\n",
       "      <td>54259</td>\n",
       "      <td>MIT License</td>\n",
       "      <td>394</td>\n",
       "      <td>138.0</td>\n",
       "      <td>169.0</td>\n",
       "    </tr>\n",
       "    <tr>\n",
       "      <th>100</th>\n",
       "      <td>minbpe</td>\n",
       "      <td>karpathy/minbpe</td>\n",
       "      <td>no topic</td>\n",
       "      <td>Minimal, clean code for the Byte Pair Encoding...</td>\n",
       "      <td>2024-02-16</td>\n",
       "      <td>7811</td>\n",
       "      <td>671</td>\n",
       "      <td>MIT License</td>\n",
       "      <td>51</td>\n",
       "      <td>13.0</td>\n",
       "      <td>153.0</td>\n",
       "    </tr>\n",
       "    <tr>\n",
       "      <th>0</th>\n",
       "      <td>langchain</td>\n",
       "      <td>langchain-ai/langchain</td>\n",
       "      <td>no topic</td>\n",
       "      <td>🦜🔗 Build context-aware reasoning applications</td>\n",
       "      <td>2022-10-17</td>\n",
       "      <td>81425</td>\n",
       "      <td>12434</td>\n",
       "      <td>MIT License</td>\n",
       "      <td>538</td>\n",
       "      <td>23.0</td>\n",
       "      <td>151.0</td>\n",
       "    </tr>\n",
       "    <tr>\n",
       "      <th>6</th>\n",
       "      <td>private-gpt</td>\n",
       "      <td>zylon-ai/private-gpt</td>\n",
       "      <td>no topic</td>\n",
       "      <td>Interact with your documents using the power o...</td>\n",
       "      <td>2023-05-02</td>\n",
       "      <td>51134</td>\n",
       "      <td>6804</td>\n",
       "      <td>Apache License 2.0</td>\n",
       "      <td>341</td>\n",
       "      <td>20.0</td>\n",
       "      <td>150.0</td>\n",
       "    </tr>\n",
       "    <tr>\n",
       "      <th>4</th>\n",
       "      <td>llama.cpp</td>\n",
       "      <td>ggerganov/llama.cpp</td>\n",
       "      <td>ggml, llama</td>\n",
       "      <td>LLM inference in C/C++</td>\n",
       "      <td>2023-03-10</td>\n",
       "      <td>54581</td>\n",
       "      <td>7703</td>\n",
       "      <td>MIT License</td>\n",
       "      <td>394</td>\n",
       "      <td>20.0</td>\n",
       "      <td>139.0</td>\n",
       "    </tr>\n",
       "  </tbody>\n",
       "</table>\n",
       "</div>"
      ],
      "text/plain": [
       "                 name                        full_name  \\\n",
       "456   FreeAskInternet           nashsu/FreeAskInternet   \n",
       "203      LLocalSearch          nilsherzig/LLocalSearch   \n",
       "169            openui                     wandb/openui   \n",
       "5              ollama                    ollama/ollama   \n",
       "317              dbrx                  databricks/dbrx   \n",
       "1    ChatGPT-Next-Web  ChatGPTNextWeb/ChatGPT-Next-Web   \n",
       "100            minbpe                  karpathy/minbpe   \n",
       "0           langchain           langchain-ai/langchain   \n",
       "6         private-gpt             zylon-ai/private-gpt   \n",
       "4           llama.cpp              ggerganov/llama.cpp   \n",
       "\n",
       "                                                topics  \\\n",
       "456                                           no topic   \n",
       "203                                 llm, search-engine   \n",
       "169                                           no topic   \n",
       "5    go, golang, llama, llama2, llm, llms, mistral,...   \n",
       "317  databricks, gen-ai, generative-ai, llm, llm-in...   \n",
       "1    chatgpt, cross-platform, desktop, fe, gemini, ...   \n",
       "100                                           no topic   \n",
       "0                                             no topic   \n",
       "6                                             no topic   \n",
       "4                                          ggml, llama   \n",
       "\n",
       "                                           description  created_at  \\\n",
       "456  FreeAskInternet is a completely free, private ...  2024-04-05   \n",
       "203  LLocalSearch is a completely locally running s...  2024-03-23   \n",
       "169  OpenUI let's you describe UI using your imagin...  2024-03-17   \n",
       "5    Get up and running with Llama 2, Mistral, Gemm...  2023-06-26   \n",
       "317  Code examples and resources for DBRX, a large ...  2024-03-26   \n",
       "1    A cross-platform ChatGPT/Gemini UI (Web / PWA ...  2023-03-10   \n",
       "100  Minimal, clean code for the Byte Pair Encoding...  2024-02-16   \n",
       "0        🦜🔗 Build context-aware reasoning applications  2022-10-17   \n",
       "6    Interact with your documents using the power o...  2023-05-02   \n",
       "4                               LLM inference in C/C++  2023-03-10   \n",
       "\n",
       "     stargazers_count  forks_count             license  days_since_created  \\\n",
       "456              1247          102  Apache License 2.0                   2   \n",
       "203              3658          184  Apache License 2.0                  15   \n",
       "169              4541          388  Apache License 2.0                  21   \n",
       "5               53219         3691         MIT License                 286   \n",
       "317              2174          203               Other                  12   \n",
       "1               66548        54259         MIT License                 394   \n",
       "100              7811          671         MIT License                  51   \n",
       "0               81425        12434         MIT License                 538   \n",
       "6               51134         6804  Apache License 2.0                 341   \n",
       "4               54581         7703         MIT License                 394   \n",
       "\n",
       "     forks_day  stars_day  \n",
       "456       51.0      624.0  \n",
       "203       12.0      244.0  \n",
       "169       18.0      216.0  \n",
       "5         13.0      186.0  \n",
       "317       17.0      181.0  \n",
       "1        138.0      169.0  \n",
       "100       13.0      153.0  \n",
       "0         23.0      151.0  \n",
       "6         20.0      150.0  \n",
       "4         20.0      139.0  "
      ]
     },
     "execution_count": 13,
     "metadata": {},
     "output_type": "execute_result"
    }
   ],
   "source": [
    "df_final.nlargest(10, 'stars_day')"
   ]
  },
  {
   "cell_type": "code",
   "execution_count": 15,
   "metadata": {},
   "outputs": [
    {
     "data": {
      "text/html": [
       "<div>\n",
       "<style scoped>\n",
       "    .dataframe tbody tr th:only-of-type {\n",
       "        vertical-align: middle;\n",
       "    }\n",
       "\n",
       "    .dataframe tbody tr th {\n",
       "        vertical-align: top;\n",
       "    }\n",
       "\n",
       "    .dataframe thead th {\n",
       "        text-align: right;\n",
       "    }\n",
       "</style>\n",
       "<table border=\"1\" class=\"dataframe\">\n",
       "  <thead>\n",
       "    <tr style=\"text-align: right;\">\n",
       "      <th></th>\n",
       "      <th>name</th>\n",
       "      <th>full_name</th>\n",
       "      <th>topics</th>\n",
       "      <th>description</th>\n",
       "      <th>created_at</th>\n",
       "      <th>stargazers_count</th>\n",
       "      <th>forks_count</th>\n",
       "      <th>license</th>\n",
       "      <th>days_since_created</th>\n",
       "      <th>forks_day</th>\n",
       "      <th>stars_day</th>\n",
       "    </tr>\n",
       "  </thead>\n",
       "  <tbody>\n",
       "    <tr>\n",
       "      <th>5</th>\n",
       "      <td>ollama</td>\n",
       "      <td>ollama/ollama</td>\n",
       "      <td>go, golang, llama, llama2, llm, llms, mistral,...</td>\n",
       "      <td>Get up and running with Llama 2, Mistral, Gemm...</td>\n",
       "      <td>2023-06-26</td>\n",
       "      <td>53219</td>\n",
       "      <td>3691</td>\n",
       "      <td>MIT License</td>\n",
       "      <td>286</td>\n",
       "      <td>13.0</td>\n",
       "      <td>186.0</td>\n",
       "    </tr>\n",
       "    <tr>\n",
       "      <th>1</th>\n",
       "      <td>ChatGPT-Next-Web</td>\n",
       "      <td>ChatGPTNextWeb/ChatGPT-Next-Web</td>\n",
       "      <td>chatgpt, cross-platform, desktop, fe, gemini, ...</td>\n",
       "      <td>A cross-platform ChatGPT/Gemini UI (Web / PWA ...</td>\n",
       "      <td>2023-03-10</td>\n",
       "      <td>66548</td>\n",
       "      <td>54259</td>\n",
       "      <td>MIT License</td>\n",
       "      <td>394</td>\n",
       "      <td>138.0</td>\n",
       "      <td>169.0</td>\n",
       "    </tr>\n",
       "    <tr>\n",
       "      <th>0</th>\n",
       "      <td>langchain</td>\n",
       "      <td>langchain-ai/langchain</td>\n",
       "      <td>no topic</td>\n",
       "      <td>🦜🔗 Build context-aware reasoning applications</td>\n",
       "      <td>2022-10-17</td>\n",
       "      <td>81425</td>\n",
       "      <td>12434</td>\n",
       "      <td>MIT License</td>\n",
       "      <td>538</td>\n",
       "      <td>23.0</td>\n",
       "      <td>151.0</td>\n",
       "    </tr>\n",
       "    <tr>\n",
       "      <th>6</th>\n",
       "      <td>private-gpt</td>\n",
       "      <td>zylon-ai/private-gpt</td>\n",
       "      <td>no topic</td>\n",
       "      <td>Interact with your documents using the power o...</td>\n",
       "      <td>2023-05-02</td>\n",
       "      <td>51134</td>\n",
       "      <td>6804</td>\n",
       "      <td>Apache License 2.0</td>\n",
       "      <td>341</td>\n",
       "      <td>20.0</td>\n",
       "      <td>150.0</td>\n",
       "    </tr>\n",
       "    <tr>\n",
       "      <th>4</th>\n",
       "      <td>llama.cpp</td>\n",
       "      <td>ggerganov/llama.cpp</td>\n",
       "      <td>ggml, llama</td>\n",
       "      <td>LLM inference in C/C++</td>\n",
       "      <td>2023-03-10</td>\n",
       "      <td>54581</td>\n",
       "      <td>7703</td>\n",
       "      <td>MIT License</td>\n",
       "      <td>394</td>\n",
       "      <td>20.0</td>\n",
       "      <td>139.0</td>\n",
       "    </tr>\n",
       "    <tr>\n",
       "      <th>10</th>\n",
       "      <td>generative-ai-for-beginners</td>\n",
       "      <td>microsoft/generative-ai-for-beginners</td>\n",
       "      <td>ai, azure, chatgpt, dall-e, generative-ai, gen...</td>\n",
       "      <td>18 Lessons, Get Started Building with Generati...</td>\n",
       "      <td>2023-06-19</td>\n",
       "      <td>40273</td>\n",
       "      <td>21598</td>\n",
       "      <td>MIT License</td>\n",
       "      <td>293</td>\n",
       "      <td>74.0</td>\n",
       "      <td>137.0</td>\n",
       "    </tr>\n",
       "    <tr>\n",
       "      <th>12</th>\n",
       "      <td>MetaGPT</td>\n",
       "      <td>geekan/MetaGPT</td>\n",
       "      <td>agent, gpt, hacktoberfest, llm, metagpt, multi...</td>\n",
       "      <td>🌟 The Multi-Agent Framework: First AI Software...</td>\n",
       "      <td>2023-06-30</td>\n",
       "      <td>38304</td>\n",
       "      <td>4502</td>\n",
       "      <td>MIT License</td>\n",
       "      <td>282</td>\n",
       "      <td>16.0</td>\n",
       "      <td>136.0</td>\n",
       "    </tr>\n",
       "    <tr>\n",
       "      <th>21</th>\n",
       "      <td>gpt-pilot</td>\n",
       "      <td>Pythagora-io/gpt-pilot</td>\n",
       "      <td>ai, codegen, coding-assistant, developer-tools...</td>\n",
       "      <td>The first real AI developer</td>\n",
       "      <td>2023-08-16</td>\n",
       "      <td>27152</td>\n",
       "      <td>2684</td>\n",
       "      <td>MIT License</td>\n",
       "      <td>235</td>\n",
       "      <td>11.0</td>\n",
       "      <td>116.0</td>\n",
       "    </tr>\n",
       "    <tr>\n",
       "      <th>26</th>\n",
       "      <td>autogen</td>\n",
       "      <td>microsoft/autogen</td>\n",
       "      <td>agent-based-framework, agent-oriented-programm...</td>\n",
       "      <td>A programming framework for agentic AI. Discor...</td>\n",
       "      <td>2023-08-18</td>\n",
       "      <td>24113</td>\n",
       "      <td>3355</td>\n",
       "      <td>Creative Commons Attribution 4.0 International</td>\n",
       "      <td>233</td>\n",
       "      <td>14.0</td>\n",
       "      <td>103.0</td>\n",
       "    </tr>\n",
       "    <tr>\n",
       "      <th>17</th>\n",
       "      <td>quivr</td>\n",
       "      <td>QuivrHQ/quivr</td>\n",
       "      <td>ai, api, chatbot, chatgpt, database, docker, f...</td>\n",
       "      <td>Your GenAI Second Brain 🧠  A personal producti...</td>\n",
       "      <td>2023-05-12</td>\n",
       "      <td>31587</td>\n",
       "      <td>3052</td>\n",
       "      <td>Apache License 2.0</td>\n",
       "      <td>331</td>\n",
       "      <td>9.0</td>\n",
       "      <td>95.0</td>\n",
       "    </tr>\n",
       "  </tbody>\n",
       "</table>\n",
       "</div>"
      ],
      "text/plain": [
       "                           name                              full_name  \\\n",
       "5                        ollama                          ollama/ollama   \n",
       "1              ChatGPT-Next-Web        ChatGPTNextWeb/ChatGPT-Next-Web   \n",
       "0                     langchain                 langchain-ai/langchain   \n",
       "6                   private-gpt                   zylon-ai/private-gpt   \n",
       "4                     llama.cpp                    ggerganov/llama.cpp   \n",
       "10  generative-ai-for-beginners  microsoft/generative-ai-for-beginners   \n",
       "12                      MetaGPT                         geekan/MetaGPT   \n",
       "21                    gpt-pilot                 Pythagora-io/gpt-pilot   \n",
       "26                      autogen                      microsoft/autogen   \n",
       "17                        quivr                          QuivrHQ/quivr   \n",
       "\n",
       "                                               topics  \\\n",
       "5   go, golang, llama, llama2, llm, llms, mistral,...   \n",
       "1   chatgpt, cross-platform, desktop, fe, gemini, ...   \n",
       "0                                            no topic   \n",
       "6                                            no topic   \n",
       "4                                         ggml, llama   \n",
       "10  ai, azure, chatgpt, dall-e, generative-ai, gen...   \n",
       "12  agent, gpt, hacktoberfest, llm, metagpt, multi...   \n",
       "21  ai, codegen, coding-assistant, developer-tools...   \n",
       "26  agent-based-framework, agent-oriented-programm...   \n",
       "17  ai, api, chatbot, chatgpt, database, docker, f...   \n",
       "\n",
       "                                          description  created_at  \\\n",
       "5   Get up and running with Llama 2, Mistral, Gemm...  2023-06-26   \n",
       "1   A cross-platform ChatGPT/Gemini UI (Web / PWA ...  2023-03-10   \n",
       "0       🦜🔗 Build context-aware reasoning applications  2022-10-17   \n",
       "6   Interact with your documents using the power o...  2023-05-02   \n",
       "4                              LLM inference in C/C++  2023-03-10   \n",
       "10  18 Lessons, Get Started Building with Generati...  2023-06-19   \n",
       "12  🌟 The Multi-Agent Framework: First AI Software...  2023-06-30   \n",
       "21                        The first real AI developer  2023-08-16   \n",
       "26  A programming framework for agentic AI. Discor...  2023-08-18   \n",
       "17  Your GenAI Second Brain 🧠  A personal producti...  2023-05-12   \n",
       "\n",
       "    stargazers_count  forks_count  \\\n",
       "5              53219         3691   \n",
       "1              66548        54259   \n",
       "0              81425        12434   \n",
       "6              51134         6804   \n",
       "4              54581         7703   \n",
       "10             40273        21598   \n",
       "12             38304         4502   \n",
       "21             27152         2684   \n",
       "26             24113         3355   \n",
       "17             31587         3052   \n",
       "\n",
       "                                           license  days_since_created  \\\n",
       "5                                      MIT License                 286   \n",
       "1                                      MIT License                 394   \n",
       "0                                      MIT License                 538   \n",
       "6                               Apache License 2.0                 341   \n",
       "4                                      MIT License                 394   \n",
       "10                                     MIT License                 293   \n",
       "12                                     MIT License                 282   \n",
       "21                                     MIT License                 235   \n",
       "26  Creative Commons Attribution 4.0 International                 233   \n",
       "17                              Apache License 2.0                 331   \n",
       "\n",
       "    forks_day  stars_day  \n",
       "5        13.0      186.0  \n",
       "1       138.0      169.0  \n",
       "0        23.0      151.0  \n",
       "6        20.0      150.0  \n",
       "4        20.0      139.0  \n",
       "10       74.0      137.0  \n",
       "12       16.0      136.0  \n",
       "21       11.0      116.0  \n",
       "26       14.0      103.0  \n",
       "17        9.0       95.0  "
      ]
     },
     "execution_count": 15,
     "metadata": {},
     "output_type": "execute_result"
    }
   ],
   "source": [
    "df_final[df_final['days_since_created']>180].nlargest(10, 'stars_day')"
   ]
  },
  {
   "cell_type": "code",
   "execution_count": 16,
   "metadata": {},
   "outputs": [
    {
     "data": {
      "text/html": [
       "<div>\n",
       "<style scoped>\n",
       "    .dataframe tbody tr th:only-of-type {\n",
       "        vertical-align: middle;\n",
       "    }\n",
       "\n",
       "    .dataframe tbody tr th {\n",
       "        vertical-align: top;\n",
       "    }\n",
       "\n",
       "    .dataframe thead th {\n",
       "        text-align: right;\n",
       "    }\n",
       "</style>\n",
       "<table border=\"1\" class=\"dataframe\">\n",
       "  <thead>\n",
       "    <tr style=\"text-align: right;\">\n",
       "      <th></th>\n",
       "      <th>name</th>\n",
       "      <th>full_name</th>\n",
       "      <th>topics</th>\n",
       "      <th>description</th>\n",
       "      <th>created_at</th>\n",
       "      <th>stargazers_count</th>\n",
       "      <th>forks_count</th>\n",
       "      <th>license</th>\n",
       "      <th>days_since_created</th>\n",
       "      <th>forks_day</th>\n",
       "      <th>stars_day</th>\n",
       "    </tr>\n",
       "  </thead>\n",
       "  <tbody>\n",
       "    <tr>\n",
       "      <th>456</th>\n",
       "      <td>FreeAskInternet</td>\n",
       "      <td>nashsu/FreeAskInternet</td>\n",
       "      <td>no topic</td>\n",
       "      <td>FreeAskInternet is a completely free, private ...</td>\n",
       "      <td>2024-04-05</td>\n",
       "      <td>1247</td>\n",
       "      <td>102</td>\n",
       "      <td>Apache License 2.0</td>\n",
       "      <td>2</td>\n",
       "      <td>51.0</td>\n",
       "      <td>624.0</td>\n",
       "    </tr>\n",
       "    <tr>\n",
       "      <th>203</th>\n",
       "      <td>LLocalSearch</td>\n",
       "      <td>nilsherzig/LLocalSearch</td>\n",
       "      <td>llm, search-engine</td>\n",
       "      <td>LLocalSearch is a completely locally running s...</td>\n",
       "      <td>2024-03-23</td>\n",
       "      <td>3658</td>\n",
       "      <td>184</td>\n",
       "      <td>Apache License 2.0</td>\n",
       "      <td>15</td>\n",
       "      <td>12.0</td>\n",
       "      <td>244.0</td>\n",
       "    </tr>\n",
       "    <tr>\n",
       "      <th>169</th>\n",
       "      <td>openui</td>\n",
       "      <td>wandb/openui</td>\n",
       "      <td>no topic</td>\n",
       "      <td>OpenUI let's you describe UI using your imagin...</td>\n",
       "      <td>2024-03-17</td>\n",
       "      <td>4541</td>\n",
       "      <td>388</td>\n",
       "      <td>Apache License 2.0</td>\n",
       "      <td>21</td>\n",
       "      <td>18.0</td>\n",
       "      <td>216.0</td>\n",
       "    </tr>\n",
       "    <tr>\n",
       "      <th>317</th>\n",
       "      <td>dbrx</td>\n",
       "      <td>databricks/dbrx</td>\n",
       "      <td>databricks, gen-ai, generative-ai, llm, llm-in...</td>\n",
       "      <td>Code examples and resources for DBRX, a large ...</td>\n",
       "      <td>2024-03-26</td>\n",
       "      <td>2174</td>\n",
       "      <td>203</td>\n",
       "      <td>Other</td>\n",
       "      <td>12</td>\n",
       "      <td>17.0</td>\n",
       "      <td>181.0</td>\n",
       "    </tr>\n",
       "    <tr>\n",
       "      <th>100</th>\n",
       "      <td>minbpe</td>\n",
       "      <td>karpathy/minbpe</td>\n",
       "      <td>no topic</td>\n",
       "      <td>Minimal, clean code for the Byte Pair Encoding...</td>\n",
       "      <td>2024-02-16</td>\n",
       "      <td>7811</td>\n",
       "      <td>671</td>\n",
       "      <td>MIT License</td>\n",
       "      <td>51</td>\n",
       "      <td>13.0</td>\n",
       "      <td>153.0</td>\n",
       "    </tr>\n",
       "    <tr>\n",
       "      <th>153</th>\n",
       "      <td>gemma.cpp</td>\n",
       "      <td>google/gemma.cpp</td>\n",
       "      <td>no topic</td>\n",
       "      <td>lightweight, standalone C++ inference engine f...</td>\n",
       "      <td>2024-02-13</td>\n",
       "      <td>5139</td>\n",
       "      <td>446</td>\n",
       "      <td>Apache License 2.0</td>\n",
       "      <td>54</td>\n",
       "      <td>8.0</td>\n",
       "      <td>95.0</td>\n",
       "    </tr>\n",
       "    <tr>\n",
       "      <th>115</th>\n",
       "      <td>search_with_lepton</td>\n",
       "      <td>leptonai/search_with_lepton</td>\n",
       "      <td>ai, ai-applications, leptonai, llm</td>\n",
       "      <td>Building a quick conversation-based search dem...</td>\n",
       "      <td>2024-01-23</td>\n",
       "      <td>6775</td>\n",
       "      <td>793</td>\n",
       "      <td>Apache License 2.0</td>\n",
       "      <td>75</td>\n",
       "      <td>11.0</td>\n",
       "      <td>90.0</td>\n",
       "    </tr>\n",
       "    <tr>\n",
       "      <th>227</th>\n",
       "      <td>skyvern</td>\n",
       "      <td>Skyvern-AI/skyvern</td>\n",
       "      <td>api, automation, browser, browser-automation, ...</td>\n",
       "      <td>Automate browser-based workflows with LLMs and...</td>\n",
       "      <td>2024-02-28</td>\n",
       "      <td>3236</td>\n",
       "      <td>228</td>\n",
       "      <td>GNU Affero General Public License v3.0</td>\n",
       "      <td>39</td>\n",
       "      <td>6.0</td>\n",
       "      <td>83.0</td>\n",
       "    </tr>\n",
       "    <tr>\n",
       "      <th>280</th>\n",
       "      <td>ComfyUI-Workflows-ZHO</td>\n",
       "      <td>ZHO-ZHO-ZHO/ComfyUI-Workflows-ZHO</td>\n",
       "      <td>comfyui, stable-diffusion</td>\n",
       "      <td>我的 ComfyUI 工作流合集 | My ComfyUI workflows collec...</td>\n",
       "      <td>2024-03-06</td>\n",
       "      <td>2492</td>\n",
       "      <td>253</td>\n",
       "      <td>GNU General Public License v3.0</td>\n",
       "      <td>32</td>\n",
       "      <td>8.0</td>\n",
       "      <td>78.0</td>\n",
       "    </tr>\n",
       "    <tr>\n",
       "      <th>58</th>\n",
       "      <td>crewAI</td>\n",
       "      <td>joaomdmoura/crewAI</td>\n",
       "      <td>agents, ai, ai-agents, llms</td>\n",
       "      <td>Framework for orchestrating role-playing, auto...</td>\n",
       "      <td>2023-10-27</td>\n",
       "      <td>11391</td>\n",
       "      <td>1413</td>\n",
       "      <td>MIT License</td>\n",
       "      <td>163</td>\n",
       "      <td>9.0</td>\n",
       "      <td>70.0</td>\n",
       "    </tr>\n",
       "  </tbody>\n",
       "</table>\n",
       "</div>"
      ],
      "text/plain": [
       "                      name                          full_name  \\\n",
       "456        FreeAskInternet             nashsu/FreeAskInternet   \n",
       "203           LLocalSearch            nilsherzig/LLocalSearch   \n",
       "169                 openui                       wandb/openui   \n",
       "317                   dbrx                    databricks/dbrx   \n",
       "100                 minbpe                    karpathy/minbpe   \n",
       "153              gemma.cpp                   google/gemma.cpp   \n",
       "115     search_with_lepton        leptonai/search_with_lepton   \n",
       "227                skyvern                 Skyvern-AI/skyvern   \n",
       "280  ComfyUI-Workflows-ZHO  ZHO-ZHO-ZHO/ComfyUI-Workflows-ZHO   \n",
       "58                  crewAI                 joaomdmoura/crewAI   \n",
       "\n",
       "                                                topics  \\\n",
       "456                                           no topic   \n",
       "203                                 llm, search-engine   \n",
       "169                                           no topic   \n",
       "317  databricks, gen-ai, generative-ai, llm, llm-in...   \n",
       "100                                           no topic   \n",
       "153                                           no topic   \n",
       "115                 ai, ai-applications, leptonai, llm   \n",
       "227  api, automation, browser, browser-automation, ...   \n",
       "280                          comfyui, stable-diffusion   \n",
       "58                         agents, ai, ai-agents, llms   \n",
       "\n",
       "                                           description  created_at  \\\n",
       "456  FreeAskInternet is a completely free, private ...  2024-04-05   \n",
       "203  LLocalSearch is a completely locally running s...  2024-03-23   \n",
       "169  OpenUI let's you describe UI using your imagin...  2024-03-17   \n",
       "317  Code examples and resources for DBRX, a large ...  2024-03-26   \n",
       "100  Minimal, clean code for the Byte Pair Encoding...  2024-02-16   \n",
       "153  lightweight, standalone C++ inference engine f...  2024-02-13   \n",
       "115  Building a quick conversation-based search dem...  2024-01-23   \n",
       "227  Automate browser-based workflows with LLMs and...  2024-02-28   \n",
       "280  我的 ComfyUI 工作流合集 | My ComfyUI workflows collec...  2024-03-06   \n",
       "58   Framework for orchestrating role-playing, auto...  2023-10-27   \n",
       "\n",
       "     stargazers_count  forks_count                                 license  \\\n",
       "456              1247          102                      Apache License 2.0   \n",
       "203              3658          184                      Apache License 2.0   \n",
       "169              4541          388                      Apache License 2.0   \n",
       "317              2174          203                                   Other   \n",
       "100              7811          671                             MIT License   \n",
       "153              5139          446                      Apache License 2.0   \n",
       "115              6775          793                      Apache License 2.0   \n",
       "227              3236          228  GNU Affero General Public License v3.0   \n",
       "280              2492          253         GNU General Public License v3.0   \n",
       "58              11391         1413                             MIT License   \n",
       "\n",
       "     days_since_created  forks_day  stars_day  \n",
       "456                   2       51.0      624.0  \n",
       "203                  15       12.0      244.0  \n",
       "169                  21       18.0      216.0  \n",
       "317                  12       17.0      181.0  \n",
       "100                  51       13.0      153.0  \n",
       "153                  54        8.0       95.0  \n",
       "115                  75       11.0       90.0  \n",
       "227                  39        6.0       83.0  \n",
       "280                  32        8.0       78.0  \n",
       "58                  163        9.0       70.0  "
      ]
     },
     "execution_count": 16,
     "metadata": {},
     "output_type": "execute_result"
    }
   ],
   "source": [
    "df_final[df_final['days_since_created']<180].nlargest(10, 'stars_day')"
   ]
  },
  {
   "cell_type": "code",
   "execution_count": 14,
   "metadata": {},
   "outputs": [
    {
     "data": {
      "text/html": [
       "<div>\n",
       "<style scoped>\n",
       "    .dataframe tbody tr th:only-of-type {\n",
       "        vertical-align: middle;\n",
       "    }\n",
       "\n",
       "    .dataframe tbody tr th {\n",
       "        vertical-align: top;\n",
       "    }\n",
       "\n",
       "    .dataframe thead th {\n",
       "        text-align: right;\n",
       "    }\n",
       "</style>\n",
       "<table border=\"1\" class=\"dataframe\">\n",
       "  <thead>\n",
       "    <tr style=\"text-align: right;\">\n",
       "      <th></th>\n",
       "      <th>name</th>\n",
       "      <th>full_name</th>\n",
       "      <th>topics</th>\n",
       "      <th>description</th>\n",
       "      <th>created_at</th>\n",
       "      <th>stargazers_count</th>\n",
       "      <th>forks_count</th>\n",
       "      <th>license</th>\n",
       "      <th>days_since_created</th>\n",
       "      <th>forks_day</th>\n",
       "      <th>stars_day</th>\n",
       "    </tr>\n",
       "  </thead>\n",
       "  <tbody>\n",
       "    <tr>\n",
       "      <th>1</th>\n",
       "      <td>ChatGPT-Next-Web</td>\n",
       "      <td>ChatGPTNextWeb/ChatGPT-Next-Web</td>\n",
       "      <td>chatgpt, cross-platform, desktop, fe, gemini, ...</td>\n",
       "      <td>A cross-platform ChatGPT/Gemini UI (Web / PWA ...</td>\n",
       "      <td>2023-03-10</td>\n",
       "      <td>66548</td>\n",
       "      <td>54259</td>\n",
       "      <td>MIT License</td>\n",
       "      <td>394</td>\n",
       "      <td>138.0</td>\n",
       "      <td>169.0</td>\n",
       "    </tr>\n",
       "    <tr>\n",
       "      <th>10</th>\n",
       "      <td>generative-ai-for-beginners</td>\n",
       "      <td>microsoft/generative-ai-for-beginners</td>\n",
       "      <td>ai, azure, chatgpt, dall-e, generative-ai, gen...</td>\n",
       "      <td>18 Lessons, Get Started Building with Generati...</td>\n",
       "      <td>2023-06-19</td>\n",
       "      <td>40273</td>\n",
       "      <td>21598</td>\n",
       "      <td>MIT License</td>\n",
       "      <td>293</td>\n",
       "      <td>74.0</td>\n",
       "      <td>137.0</td>\n",
       "    </tr>\n",
       "    <tr>\n",
       "      <th>456</th>\n",
       "      <td>FreeAskInternet</td>\n",
       "      <td>nashsu/FreeAskInternet</td>\n",
       "      <td>no topic</td>\n",
       "      <td>FreeAskInternet is a completely free, private ...</td>\n",
       "      <td>2024-04-05</td>\n",
       "      <td>1247</td>\n",
       "      <td>102</td>\n",
       "      <td>Apache License 2.0</td>\n",
       "      <td>2</td>\n",
       "      <td>51.0</td>\n",
       "      <td>624.0</td>\n",
       "    </tr>\n",
       "    <tr>\n",
       "      <th>28</th>\n",
       "      <td>Flowise</td>\n",
       "      <td>FlowiseAI/Flowise</td>\n",
       "      <td>artificial-intelligence, chatgpt, javascript, ...</td>\n",
       "      <td>Drag &amp; drop UI to build your customized LLM flow</td>\n",
       "      <td>2023-03-31</td>\n",
       "      <td>23059</td>\n",
       "      <td>11784</td>\n",
       "      <td>Apache License 2.0</td>\n",
       "      <td>373</td>\n",
       "      <td>32.0</td>\n",
       "      <td>62.0</td>\n",
       "    </tr>\n",
       "    <tr>\n",
       "      <th>0</th>\n",
       "      <td>langchain</td>\n",
       "      <td>langchain-ai/langchain</td>\n",
       "      <td>no topic</td>\n",
       "      <td>🦜🔗 Build context-aware reasoning applications</td>\n",
       "      <td>2022-10-17</td>\n",
       "      <td>81425</td>\n",
       "      <td>12434</td>\n",
       "      <td>MIT License</td>\n",
       "      <td>538</td>\n",
       "      <td>23.0</td>\n",
       "      <td>151.0</td>\n",
       "    </tr>\n",
       "    <tr>\n",
       "      <th>4</th>\n",
       "      <td>llama.cpp</td>\n",
       "      <td>ggerganov/llama.cpp</td>\n",
       "      <td>ggml, llama</td>\n",
       "      <td>LLM inference in C/C++</td>\n",
       "      <td>2023-03-10</td>\n",
       "      <td>54581</td>\n",
       "      <td>7703</td>\n",
       "      <td>MIT License</td>\n",
       "      <td>394</td>\n",
       "      <td>20.0</td>\n",
       "      <td>139.0</td>\n",
       "    </tr>\n",
       "    <tr>\n",
       "      <th>6</th>\n",
       "      <td>private-gpt</td>\n",
       "      <td>zylon-ai/private-gpt</td>\n",
       "      <td>no topic</td>\n",
       "      <td>Interact with your documents using the power o...</td>\n",
       "      <td>2023-05-02</td>\n",
       "      <td>51134</td>\n",
       "      <td>6804</td>\n",
       "      <td>Apache License 2.0</td>\n",
       "      <td>341</td>\n",
       "      <td>20.0</td>\n",
       "      <td>150.0</td>\n",
       "    </tr>\n",
       "    <tr>\n",
       "      <th>23</th>\n",
       "      <td>lobe-chat</td>\n",
       "      <td>lobehub/lobe-chat</td>\n",
       "      <td>ai, azure-openai, chat, chatglm, chatgpt, clau...</td>\n",
       "      <td>🤯 Lobe Chat - an open-source, modern-design LL...</td>\n",
       "      <td>2023-05-21</td>\n",
       "      <td>26395</td>\n",
       "      <td>5941</td>\n",
       "      <td>MIT License</td>\n",
       "      <td>322</td>\n",
       "      <td>18.0</td>\n",
       "      <td>82.0</td>\n",
       "    </tr>\n",
       "    <tr>\n",
       "      <th>169</th>\n",
       "      <td>openui</td>\n",
       "      <td>wandb/openui</td>\n",
       "      <td>no topic</td>\n",
       "      <td>OpenUI let's you describe UI using your imagin...</td>\n",
       "      <td>2024-03-17</td>\n",
       "      <td>4541</td>\n",
       "      <td>388</td>\n",
       "      <td>Apache License 2.0</td>\n",
       "      <td>21</td>\n",
       "      <td>18.0</td>\n",
       "      <td>216.0</td>\n",
       "    </tr>\n",
       "    <tr>\n",
       "      <th>317</th>\n",
       "      <td>dbrx</td>\n",
       "      <td>databricks/dbrx</td>\n",
       "      <td>databricks, gen-ai, generative-ai, llm, llm-in...</td>\n",
       "      <td>Code examples and resources for DBRX, a large ...</td>\n",
       "      <td>2024-03-26</td>\n",
       "      <td>2174</td>\n",
       "      <td>203</td>\n",
       "      <td>Other</td>\n",
       "      <td>12</td>\n",
       "      <td>17.0</td>\n",
       "      <td>181.0</td>\n",
       "    </tr>\n",
       "  </tbody>\n",
       "</table>\n",
       "</div>"
      ],
      "text/plain": [
       "                            name                              full_name  \\\n",
       "1               ChatGPT-Next-Web        ChatGPTNextWeb/ChatGPT-Next-Web   \n",
       "10   generative-ai-for-beginners  microsoft/generative-ai-for-beginners   \n",
       "456              FreeAskInternet                 nashsu/FreeAskInternet   \n",
       "28                       Flowise                      FlowiseAI/Flowise   \n",
       "0                      langchain                 langchain-ai/langchain   \n",
       "4                      llama.cpp                    ggerganov/llama.cpp   \n",
       "6                    private-gpt                   zylon-ai/private-gpt   \n",
       "23                     lobe-chat                      lobehub/lobe-chat   \n",
       "169                       openui                           wandb/openui   \n",
       "317                         dbrx                        databricks/dbrx   \n",
       "\n",
       "                                                topics  \\\n",
       "1    chatgpt, cross-platform, desktop, fe, gemini, ...   \n",
       "10   ai, azure, chatgpt, dall-e, generative-ai, gen...   \n",
       "456                                           no topic   \n",
       "28   artificial-intelligence, chatgpt, javascript, ...   \n",
       "0                                             no topic   \n",
       "4                                          ggml, llama   \n",
       "6                                             no topic   \n",
       "23   ai, azure-openai, chat, chatglm, chatgpt, clau...   \n",
       "169                                           no topic   \n",
       "317  databricks, gen-ai, generative-ai, llm, llm-in...   \n",
       "\n",
       "                                           description  created_at  \\\n",
       "1    A cross-platform ChatGPT/Gemini UI (Web / PWA ...  2023-03-10   \n",
       "10   18 Lessons, Get Started Building with Generati...  2023-06-19   \n",
       "456  FreeAskInternet is a completely free, private ...  2024-04-05   \n",
       "28    Drag & drop UI to build your customized LLM flow  2023-03-31   \n",
       "0        🦜🔗 Build context-aware reasoning applications  2022-10-17   \n",
       "4                               LLM inference in C/C++  2023-03-10   \n",
       "6    Interact with your documents using the power o...  2023-05-02   \n",
       "23   🤯 Lobe Chat - an open-source, modern-design LL...  2023-05-21   \n",
       "169  OpenUI let's you describe UI using your imagin...  2024-03-17   \n",
       "317  Code examples and resources for DBRX, a large ...  2024-03-26   \n",
       "\n",
       "     stargazers_count  forks_count             license  days_since_created  \\\n",
       "1               66548        54259         MIT License                 394   \n",
       "10              40273        21598         MIT License                 293   \n",
       "456              1247          102  Apache License 2.0                   2   \n",
       "28              23059        11784  Apache License 2.0                 373   \n",
       "0               81425        12434         MIT License                 538   \n",
       "4               54581         7703         MIT License                 394   \n",
       "6               51134         6804  Apache License 2.0                 341   \n",
       "23              26395         5941         MIT License                 322   \n",
       "169              4541          388  Apache License 2.0                  21   \n",
       "317              2174          203               Other                  12   \n",
       "\n",
       "     forks_day  stars_day  \n",
       "1        138.0      169.0  \n",
       "10        74.0      137.0  \n",
       "456       51.0      624.0  \n",
       "28        32.0       62.0  \n",
       "0         23.0      151.0  \n",
       "4         20.0      139.0  \n",
       "6         20.0      150.0  \n",
       "23        18.0       82.0  \n",
       "169       18.0      216.0  \n",
       "317       17.0      181.0  "
      ]
     },
     "execution_count": 14,
     "metadata": {},
     "output_type": "execute_result"
    }
   ],
   "source": [
    "df_final.nlargest(10, 'forks_day')"
   ]
  },
  {
   "cell_type": "code",
   "execution_count": 29,
   "metadata": {},
   "outputs": [
    {
     "data": {
      "image/png": "[encoded data removed]",
      "text/plain": [
       "<Figure size 640x480 with 1 Axes>"
      ]
     },
     "metadata": {},
     "output_type": "display_data"
    }
   ],
   "source": [
    "license_counts = df_final['license'].value_counts().nlargest(10)\n",
    "sns.barplot(x=license_counts.values, y=license_counts.index)\n",
    "plt.title('Distribution of Licenses')\n",
    "plt.xlabel('Number of Repositories')\n",
    "plt.ylabel('License')\n",
    "plt.show()"
   ]
  },
  {
   "cell_type": "code",
   "execution_count": 71,
   "metadata": {},
   "outputs": [],
   "source": [
    "df = df_final.nlargest(10, 'forks_count')\n",
    "# sns.barplot(x=df['name'], y=df['forks_count'])\n",
    "# plt.title('Distribution of Licenses')\n",
    "# plt.xlabel('Number of Repositories')\n",
    "# plt.ylabel('License')\n",
    "# plt.show()"
   ]
  },
  {
   "cell_type": "code",
   "execution_count": 26,
   "metadata": {},
   "outputs": [
    {
     "data": {
      "image/png": "[encoded data removed]",
      "text/plain": [
       "<Figure size 640x480 with 1 Axes>"
      ]
     },
     "metadata": {},
     "output_type": "display_data"
    }
   ],
   "source": [
    "dataset = df_final.nlargest(10, 'stargazers_count')\n",
    "sns.barplot(x=dataset['stargazers_count'], y=dataset['name'])\n",
    "plt.title('Stars Count')\n",
    "plt.xlabel('Number of Stars')\n",
    "plt.ylabel('Repository Name')\n",
    "plt.show()\n"
   ]
  },
  {
   "cell_type": "code",
   "execution_count": 31,
   "metadata": {},
   "outputs": [
    {
     "data": {
      "image/png": "[encoded data removed]",
      "text/plain": [
       "<Figure size 640x480 with 1 Axes>"
      ]
     },
     "metadata": {},
     "output_type": "display_data"
    }
   ],
   "source": [
    "dataset = df_final.nlargest(10, 'forks_count')\n",
    "sns.barplot(x=dataset['forks_count'], y=dataset['name'])\n",
    "plt.title('Forks Count')\n",
    "plt.xlabel('Number of Forks')\n",
    "plt.ylabel('Repository Name')\n",
    "plt.show()"
   ]
  },
  {
   "cell_type": "markdown",
   "metadata": {},
   "source": [
    "### Weighted factor"
   ]
  },
  {
   "cell_type": "code",
   "execution_count": 79,
   "metadata": {},
   "outputs": [
    {
     "data": {
      "text/html": [
       "<div>\n",
       "<style scoped>\n",
       "    .dataframe tbody tr th:only-of-type {\n",
       "        vertical-align: middle;\n",
       "    }\n",
       "\n",
       "    .dataframe tbody tr th {\n",
       "        vertical-align: top;\n",
       "    }\n",
       "\n",
       "    .dataframe thead th {\n",
       "        text-align: right;\n",
       "    }\n",
       "</style>\n",
       "<table border=\"1\" class=\"dataframe\">\n",
       "  <thead>\n",
       "    <tr style=\"text-align: right;\">\n",
       "      <th></th>\n",
       "      <th>name</th>\n",
       "      <th>full_name</th>\n",
       "      <th>topics</th>\n",
       "      <th>description</th>\n",
       "      <th>created_at</th>\n",
       "      <th>stargazers_count</th>\n",
       "      <th>forks_count</th>\n",
       "      <th>license</th>\n",
       "      <th>days_since_created</th>\n",
       "      <th>forks_day</th>\n",
       "      <th>stars_day</th>\n",
       "      <th>factor</th>\n",
       "    </tr>\n",
       "  </thead>\n",
       "  <tbody>\n",
       "    <tr>\n",
       "      <th>0</th>\n",
       "      <td>langchain</td>\n",
       "      <td>langchain-ai/langchain</td>\n",
       "      <td>no topic</td>\n",
       "      <td>🦜🔗 Build context-aware reasoning applications</td>\n",
       "      <td>2022-10-17</td>\n",
       "      <td>81425</td>\n",
       "      <td>12434</td>\n",
       "      <td>MIT License</td>\n",
       "      <td>538</td>\n",
       "      <td>23.0</td>\n",
       "      <td>151.0</td>\n",
       "      <td>94397</td>\n",
       "    </tr>\n",
       "    <tr>\n",
       "      <th>1</th>\n",
       "      <td>ChatGPT-Next-Web</td>\n",
       "      <td>ChatGPTNextWeb/ChatGPT-Next-Web</td>\n",
       "      <td>chatgpt, cross-platform, desktop, fe, gemini, ...</td>\n",
       "      <td>A cross-platform ChatGPT/Gemini UI (Web / PWA ...</td>\n",
       "      <td>2023-03-10</td>\n",
       "      <td>66548</td>\n",
       "      <td>54259</td>\n",
       "      <td>MIT License</td>\n",
       "      <td>394</td>\n",
       "      <td>138.0</td>\n",
       "      <td>169.0</td>\n",
       "      <td>121201</td>\n",
       "    </tr>\n",
       "    <tr>\n",
       "      <th>2</th>\n",
       "      <td>awesome-machine-learning</td>\n",
       "      <td>josephmisiti/awesome-machine-learning</td>\n",
       "      <td>no topic</td>\n",
       "      <td>A curated list of awesome Machine Learning fra...</td>\n",
       "      <td>2014-07-15</td>\n",
       "      <td>63304</td>\n",
       "      <td>14447</td>\n",
       "      <td>Other</td>\n",
       "      <td>3554</td>\n",
       "      <td>4.0</td>\n",
       "      <td>18.0</td>\n",
       "      <td>81305</td>\n",
       "    </tr>\n",
       "    <tr>\n",
       "      <th>3</th>\n",
       "      <td>awesome-cpp</td>\n",
       "      <td>fffaraz/awesome-cpp</td>\n",
       "      <td>awesome, awesome-list, c, c-plus-plus, cpp, cp...</td>\n",
       "      <td>A curated list of awesome C++ (or C) framework...</td>\n",
       "      <td>2014-07-17</td>\n",
       "      <td>55101</td>\n",
       "      <td>7613</td>\n",
       "      <td>MIT License</td>\n",
       "      <td>3552</td>\n",
       "      <td>2.0</td>\n",
       "      <td>16.0</td>\n",
       "      <td>66266</td>\n",
       "    </tr>\n",
       "    <tr>\n",
       "      <th>4</th>\n",
       "      <td>llama.cpp</td>\n",
       "      <td>ggerganov/llama.cpp</td>\n",
       "      <td>ggml, llama</td>\n",
       "      <td>LLM inference in C/C++</td>\n",
       "      <td>2023-03-10</td>\n",
       "      <td>54581</td>\n",
       "      <td>7703</td>\n",
       "      <td>MIT License</td>\n",
       "      <td>394</td>\n",
       "      <td>20.0</td>\n",
       "      <td>139.0</td>\n",
       "      <td>62678</td>\n",
       "    </tr>\n",
       "    <tr>\n",
       "      <th>...</th>\n",
       "      <td>...</td>\n",
       "      <td>...</td>\n",
       "      <td>...</td>\n",
       "      <td>...</td>\n",
       "      <td>...</td>\n",
       "      <td>...</td>\n",
       "      <td>...</td>\n",
       "      <td>...</td>\n",
       "      <td>...</td>\n",
       "      <td>...</td>\n",
       "      <td>...</td>\n",
       "      <td>...</td>\n",
       "    </tr>\n",
       "    <tr>\n",
       "      <th>512</th>\n",
       "      <td>awesome-transformer-nlp</td>\n",
       "      <td>cedrickchee/awesome-transformer-nlp</td>\n",
       "      <td>attention-mechanism, awesome, awesome-list, be...</td>\n",
       "      <td>A curated list of NLP resources focused on Tra...</td>\n",
       "      <td>2019-01-13</td>\n",
       "      <td>1022</td>\n",
       "      <td>122</td>\n",
       "      <td>MIT License</td>\n",
       "      <td>1911</td>\n",
       "      <td>0.0</td>\n",
       "      <td>1.0</td>\n",
       "      <td>3055</td>\n",
       "    </tr>\n",
       "    <tr>\n",
       "      <th>513</th>\n",
       "      <td>awesome_LLMs_interview_notes</td>\n",
       "      <td>jackaduma/awesome_LLMs_interview_notes</td>\n",
       "      <td>ai, interview-practice, interview-preparation,...</td>\n",
       "      <td>LLMs interview notes and answers:该仓库主要记录大模型（LL...</td>\n",
       "      <td>2023-09-21</td>\n",
       "      <td>1019</td>\n",
       "      <td>161</td>\n",
       "      <td>MIT License</td>\n",
       "      <td>199</td>\n",
       "      <td>1.0</td>\n",
       "      <td>5.0</td>\n",
       "      <td>1379</td>\n",
       "    </tr>\n",
       "    <tr>\n",
       "      <th>514</th>\n",
       "      <td>chameleon-llm</td>\n",
       "      <td>lupantech/chameleon-llm</td>\n",
       "      <td>ai, chatgpt, gpt-4, llm, openai, python, tool</td>\n",
       "      <td>Codes for \"Chameleon: Plug-and-Play Compositio...</td>\n",
       "      <td>2023-04-19</td>\n",
       "      <td>1009</td>\n",
       "      <td>84</td>\n",
       "      <td>Apache License 2.0</td>\n",
       "      <td>354</td>\n",
       "      <td>0.0</td>\n",
       "      <td>3.0</td>\n",
       "      <td>1447</td>\n",
       "    </tr>\n",
       "    <tr>\n",
       "      <th>515</th>\n",
       "      <td>bramses-highly-opinionated-vault-2023</td>\n",
       "      <td>bramses/bramses-highly-opinionated-vault-2023</td>\n",
       "      <td>obsidian-md</td>\n",
       "      <td>A highly opinionated, fully featured Obsidian ...</td>\n",
       "      <td>2022-12-08</td>\n",
       "      <td>1009</td>\n",
       "      <td>49</td>\n",
       "      <td>MIT License</td>\n",
       "      <td>486</td>\n",
       "      <td>0.0</td>\n",
       "      <td>2.0</td>\n",
       "      <td>1544</td>\n",
       "    </tr>\n",
       "    <tr>\n",
       "      <th>516</th>\n",
       "      <td>offensive-ai-compilation</td>\n",
       "      <td>jiep/offensive-ai-compilation</td>\n",
       "      <td>adversarial-machine-learning, ai-security, art...</td>\n",
       "      <td>A curated list of useful resources that cover ...</td>\n",
       "      <td>2023-01-28</td>\n",
       "      <td>1002</td>\n",
       "      <td>98</td>\n",
       "      <td>Creative Commons Attribution Share Alike 4.0 I...</td>\n",
       "      <td>435</td>\n",
       "      <td>0.0</td>\n",
       "      <td>2.0</td>\n",
       "      <td>1535</td>\n",
       "    </tr>\n",
       "  </tbody>\n",
       "</table>\n",
       "<p>517 rows × 12 columns</p>\n",
       "</div>"
      ],
      "text/plain": [
       "                                      name  \\\n",
       "0                                langchain   \n",
       "1                         ChatGPT-Next-Web   \n",
       "2                 awesome-machine-learning   \n",
       "3                              awesome-cpp   \n",
       "4                                llama.cpp   \n",
       "..                                     ...   \n",
       "512                awesome-transformer-nlp   \n",
       "513           awesome_LLMs_interview_notes   \n",
       "514                          chameleon-llm   \n",
       "515  bramses-highly-opinionated-vault-2023   \n",
       "516               offensive-ai-compilation   \n",
       "\n",
       "                                         full_name  \\\n",
       "0                           langchain-ai/langchain   \n",
       "1                  ChatGPTNextWeb/ChatGPT-Next-Web   \n",
       "2            josephmisiti/awesome-machine-learning   \n",
       "3                              fffaraz/awesome-cpp   \n",
       "4                              ggerganov/llama.cpp   \n",
       "..                                             ...   \n",
       "512            cedrickchee/awesome-transformer-nlp   \n",
       "513         jackaduma/awesome_LLMs_interview_notes   \n",
       "514                        lupantech/chameleon-llm   \n",
       "515  bramses/bramses-highly-opinionated-vault-2023   \n",
       "516                  jiep/offensive-ai-compilation   \n",
       "\n",
       "                                                topics  \\\n",
       "0                                             no topic   \n",
       "1    chatgpt, cross-platform, desktop, fe, gemini, ...   \n",
       "2                                             no topic   \n",
       "3    awesome, awesome-list, c, c-plus-plus, cpp, cp...   \n",
       "4                                          ggml, llama   \n",
       "..                                                 ...   \n",
       "512  attention-mechanism, awesome, awesome-list, be...   \n",
       "513  ai, interview-practice, interview-preparation,...   \n",
       "514      ai, chatgpt, gpt-4, llm, openai, python, tool   \n",
       "515                                        obsidian-md   \n",
       "516  adversarial-machine-learning, ai-security, art...   \n",
       "\n",
       "                                           description  created_at  \\\n",
       "0        🦜🔗 Build context-aware reasoning applications  2022-10-17   \n",
       "1    A cross-platform ChatGPT/Gemini UI (Web / PWA ...  2023-03-10   \n",
       "2    A curated list of awesome Machine Learning fra...  2014-07-15   \n",
       "3    A curated list of awesome C++ (or C) framework...  2014-07-17   \n",
       "4                               LLM inference in C/C++  2023-03-10   \n",
       "..                                                 ...         ...   \n",
       "512  A curated list of NLP resources focused on Tra...  2019-01-13   \n",
       "513  LLMs interview notes and answers:该仓库主要记录大模型（LL...  2023-09-21   \n",
       "514  Codes for \"Chameleon: Plug-and-Play Compositio...  2023-04-19   \n",
       "515  A highly opinionated, fully featured Obsidian ...  2022-12-08   \n",
       "516  A curated list of useful resources that cover ...  2023-01-28   \n",
       "\n",
       "     stargazers_count  forks_count  \\\n",
       "0               81425        12434   \n",
       "1               66548        54259   \n",
       "2               63304        14447   \n",
       "3               55101         7613   \n",
       "4               54581         7703   \n",
       "..                ...          ...   \n",
       "512              1022          122   \n",
       "513              1019          161   \n",
       "514              1009           84   \n",
       "515              1009           49   \n",
       "516              1002           98   \n",
       "\n",
       "                                               license  days_since_created  \\\n",
       "0                                          MIT License                 538   \n",
       "1                                          MIT License                 394   \n",
       "2                                                Other                3554   \n",
       "3                                          MIT License                3552   \n",
       "4                                          MIT License                 394   \n",
       "..                                                 ...                 ...   \n",
       "512                                        MIT License                1911   \n",
       "513                                        MIT License                 199   \n",
       "514                                 Apache License 2.0                 354   \n",
       "515                                        MIT License                 486   \n",
       "516  Creative Commons Attribution Share Alike 4.0 I...                 435   \n",
       "\n",
       "     forks_day  stars_day  factor  \n",
       "0         23.0      151.0   94397  \n",
       "1        138.0      169.0  121201  \n",
       "2          4.0       18.0   81305  \n",
       "3          2.0       16.0   66266  \n",
       "4         20.0      139.0   62678  \n",
       "..         ...        ...     ...  \n",
       "512        0.0        1.0    3055  \n",
       "513        1.0        5.0    1379  \n",
       "514        0.0        3.0    1447  \n",
       "515        0.0        2.0    1544  \n",
       "516        0.0        2.0    1535  \n",
       "\n",
       "[517 rows x 12 columns]"
      ]
     },
     "execution_count": 79,
     "metadata": {},
     "output_type": "execute_result"
    }
   ],
   "source": [
    "df_final"
   ]
  },
  {
   "cell_type": "markdown",
   "metadata": {},
   "source": []
  },
  {
   "cell_type": "code",
   "execution_count": 94,
   "metadata": {},
   "outputs": [
    {
     "data": {
      "text/html": [
       "<div>\n",
       "<style scoped>\n",
       "    .dataframe tbody tr th:only-of-type {\n",
       "        vertical-align: middle;\n",
       "    }\n",
       "\n",
       "    .dataframe tbody tr th {\n",
       "        vertical-align: top;\n",
       "    }\n",
       "\n",
       "    .dataframe thead th {\n",
       "        text-align: right;\n",
       "    }\n",
       "</style>\n",
       "<table border=\"1\" class=\"dataframe\">\n",
       "  <thead>\n",
       "    <tr style=\"text-align: right;\">\n",
       "      <th></th>\n",
       "      <th>created_at</th>\n",
       "      <th>repos_count</th>\n",
       "    </tr>\n",
       "  </thead>\n",
       "  <tbody>\n",
       "    <tr>\n",
       "      <th>0</th>\n",
       "      <td>2014-07-15</td>\n",
       "      <td>1</td>\n",
       "    </tr>\n",
       "    <tr>\n",
       "      <th>1</th>\n",
       "      <td>2014-07-17</td>\n",
       "      <td>1</td>\n",
       "    </tr>\n",
       "    <tr>\n",
       "      <th>2</th>\n",
       "      <td>2022-08-07</td>\n",
       "      <td>1</td>\n",
       "    </tr>\n",
       "    <tr>\n",
       "      <th>3</th>\n",
       "      <td>2022-10-17</td>\n",
       "      <td>1</td>\n",
       "    </tr>\n",
       "    <tr>\n",
       "      <th>4</th>\n",
       "      <td>2023-03-10</td>\n",
       "      <td>2</td>\n",
       "    </tr>\n",
       "    <tr>\n",
       "      <th>5</th>\n",
       "      <td>2023-03-31</td>\n",
       "      <td>1</td>\n",
       "    </tr>\n",
       "    <tr>\n",
       "      <th>6</th>\n",
       "      <td>2023-05-02</td>\n",
       "      <td>1</td>\n",
       "    </tr>\n",
       "    <tr>\n",
       "      <th>7</th>\n",
       "      <td>2023-05-21</td>\n",
       "      <td>1</td>\n",
       "    </tr>\n",
       "    <tr>\n",
       "      <th>8</th>\n",
       "      <td>2023-06-19</td>\n",
       "      <td>1</td>\n",
       "    </tr>\n",
       "  </tbody>\n",
       "</table>\n",
       "</div>"
      ],
      "text/plain": [
       "   created_at  repos_count\n",
       "0  2014-07-15            1\n",
       "1  2014-07-17            1\n",
       "2  2022-08-07            1\n",
       "3  2022-10-17            1\n",
       "4  2023-03-10            2\n",
       "5  2023-03-31            1\n",
       "6  2023-05-02            1\n",
       "7  2023-05-21            1\n",
       "8  2023-06-19            1"
      ]
     },
     "execution_count": 94,
     "metadata": {},
     "output_type": "execute_result"
    }
   ],
   "source": [
    "repo_counts = df_final[['created_at','name']].groupby('created_at').count().reset_index()\n",
    "repo_counts.rename(columns={'name': 'repos_count'}, inplace=True)\n",
    "repo_counts"
   ]
  },
  {
   "cell_type": "code",
   "execution_count": 87,
   "metadata": {},
   "outputs": [],
   "source": [
    "dfr = df_final['license'].value_counts().nlargest(3).reset_index()"
   ]
  },
  {
   "cell_type": "code",
   "execution_count": 91,
   "metadata": {},
   "outputs": [
    {
     "data": {
      "application/vnd.plotly.v1+json": {
       "config": {
        "plotlyServerURL": "https://plot.ly"
       },
       "data": [
        {
         "domain": {
          "x": [
           0,
           1
          ],
          "y": [
           0,
           1
          ]
         },
         "hovertemplate": "license=%{label}<br>count=%{value}<extra></extra>",
         "labels": [
          "MIT License",
          "Apache License 2.0",
          "Other"
         ],
         "legendgroup": "",
         "name": "",
         "showlegend": true,
         "type": "pie",
         "values": [
          213,
          199,
          34
         ]
        }
       ],
       "layout": {
        "legend": {
         "tracegroupgap": 0
        },
        "margin": {
         "t": 60
        },
        "template": {
         "data": {
          "bar": [
           {
            "error_x": {
             "color": "#2a3f5f"
            },
            "error_y": {
             "color": "#2a3f5f"
            },
            "marker": {
             "line": {
              "color": "#E5ECF6",
              "width": 0.5
             },
             "pattern": {
              "fillmode": "overlay",
              "size": 10,
              "solidity": 0.2
             }
            },
            "type": "bar"
           }
          ],
          "barpolar": [
           {
            "marker": {
             "line": {
              "color": "#E5ECF6",
              "width": 0.5
             },
             "pattern": {
              "fillmode": "overlay",
              "size": 10,
              "solidity": 0.2
             }
            },
            "type": "barpolar"
           }
          ],
          "carpet": [
           {
            "aaxis": {
             "endlinecolor": "#2a3f5f",
             "gridcolor": "white",
             "linecolor": "white",
             "minorgridcolor": "white",
             "startlinecolor": "#2a3f5f"
            },
            "baxis": {
             "endlinecolor": "#2a3f5f",
             "gridcolor": "white",
             "linecolor": "white",
             "minorgridcolor": "white",
             "startlinecolor": "#2a3f5f"
            },
            "type": "carpet"
           }
          ],
          "choropleth": [
           {
            "colorbar": {
             "outlinewidth": 0,
             "ticks": ""
            },
            "type": "choropleth"
           }
          ],
          "contour": [
           {
            "colorbar": {
             "outlinewidth": 0,
             "ticks": ""
            },
            "colorscale": [
             [
              0,
              "#0d0887"
             ],
             [
              0.1111111111111111,
              "#46039f"
             ],
             [
              0.2222222222222222,
              "#7201a8"
             ],
             [
              0.3333333333333333,
              "#9c179e"
             ],
             [
              0.4444444444444444,
              "#bd3786"
             ],
             [
              0.5555555555555556,
              "#d8576b"
             ],
             [
              0.6666666666666666,
              "#ed7953"
             ],
             [
              0.7777777777777778,
              "#fb9f3a"
             ],
             [
              0.8888888888888888,
              "#fdca26"
             ],
             [
              1,
              "#f0f921"
             ]
            ],
            "type": "contour"
           }
          ],
          "contourcarpet": [
           {
            "colorbar": {
             "outlinewidth": 0,
             "ticks": ""
            },
            "type": "contourcarpet"
           }
          ],
          "heatmap": [
           {
            "colorbar": {
             "outlinewidth": 0,
             "ticks": ""
            },
            "colorscale": [
             [
              0,
              "#0d0887"
             ],
             [
              0.1111111111111111,
              "#46039f"
             ],
             [
              0.2222222222222222,
              "#7201a8"
             ],
             [
              0.3333333333333333,
              "#9c179e"
             ],
             [
              0.4444444444444444,
              "#bd3786"
             ],
             [
              0.5555555555555556,
              "#d8576b"
             ],
             [
              0.6666666666666666,
              "#ed7953"
             ],
             [
              0.7777777777777778,
              "#fb9f3a"
             ],
             [
              0.8888888888888888,
              "#fdca26"
             ],
             [
              1,
              "#f0f921"
             ]
            ],
            "type": "heatmap"
           }
          ],
          "heatmapgl": [
           {
            "colorbar": {
             "outlinewidth": 0,
             "ticks": ""
            },
            "colorscale": [
             [
              0,
              "#0d0887"
             ],
             [
              0.1111111111111111,
              "#46039f"
             ],
             [
              0.2222222222222222,
              "#7201a8"
             ],
             [
              0.3333333333333333,
              "#9c179e"
             ],
             [
              0.4444444444444444,
              "#bd3786"
             ],
             [
              0.5555555555555556,
              "#d8576b"
             ],
             [
              0.6666666666666666,
              "#ed7953"
             ],
             [
              0.7777777777777778,
              "#fb9f3a"
             ],
             [
              0.8888888888888888,
              "#fdca26"
             ],
             [
              1,
              "#f0f921"
             ]
            ],
            "type": "heatmapgl"
           }
          ],
          "histogram": [
           {
            "marker": {
             "pattern": {
              "fillmode": "overlay",
              "size": 10,
              "solidity": 0.2
             }
            },
            "type": "histogram"
           }
          ],
          "histogram2d": [
           {
            "colorbar": {
             "outlinewidth": 0,
             "ticks": ""
            },
            "colorscale": [
             [
              0,
              "#0d0887"
             ],
             [
              0.1111111111111111,
              "#46039f"
             ],
             [
              0.2222222222222222,
              "#7201a8"
             ],
             [
              0.3333333333333333,
              "#9c179e"
             ],
             [
              0.4444444444444444,
              "#bd3786"
             ],
             [
              0.5555555555555556,
              "#d8576b"
             ],
             [
              0.6666666666666666,
              "#ed7953"
             ],
             [
              0.7777777777777778,
              "#fb9f3a"
             ],
             [
              0.8888888888888888,
              "#fdca26"
             ],
             [
              1,
              "#f0f921"
             ]
            ],
            "type": "histogram2d"
           }
          ],
          "histogram2dcontour": [
           {
            "colorbar": {
             "outlinewidth": 0,
             "ticks": ""
            },
            "colorscale": [
             [
              0,
              "#0d0887"
             ],
             [
              0.1111111111111111,
              "#46039f"
             ],
             [
              0.2222222222222222,
              "#7201a8"
             ],
             [
              0.3333333333333333,
              "#9c179e"
             ],
             [
              0.4444444444444444,
              "#bd3786"
             ],
             [
              0.5555555555555556,
              "#d8576b"
             ],
             [
              0.6666666666666666,
              "#ed7953"
             ],
             [
              0.7777777777777778,
              "#fb9f3a"
             ],
             [
              0.8888888888888888,
              "#fdca26"
             ],
             [
              1,
              "#f0f921"
             ]
            ],
            "type": "histogram2dcontour"
           }
          ],
          "mesh3d": [
           {
            "colorbar": {
             "outlinewidth": 0,
             "ticks": ""
            },
            "type": "mesh3d"
           }
          ],
          "parcoords": [
           {
            "line": {
             "colorbar": {
              "outlinewidth": 0,
              "ticks": ""
             }
            },
            "type": "parcoords"
           }
          ],
          "pie": [
           {
            "automargin": true,
            "type": "pie"
           }
          ],
          "scatter": [
           {
            "fillpattern": {
             "fillmode": "overlay",
             "size": 10,
             "solidity": 0.2
            },
            "type": "scatter"
           }
          ],
          "scatter3d": [
           {
            "line": {
             "colorbar": {
              "outlinewidth": 0,
              "ticks": ""
             }
            },
            "marker": {
             "colorbar": {
              "outlinewidth": 0,
              "ticks": ""
             }
            },
            "type": "scatter3d"
           }
          ],
          "scattercarpet": [
           {
            "marker": {
             "colorbar": {
              "outlinewidth": 0,
              "ticks": ""
             }
            },
            "type": "scattercarpet"
           }
          ],
          "scattergeo": [
           {
            "marker": {
             "colorbar": {
              "outlinewidth": 0,
              "ticks": ""
             }
            },
            "type": "scattergeo"
           }
          ],
          "scattergl": [
           {
            "marker": {
             "colorbar": {
              "outlinewidth": 0,
              "ticks": ""
             }
            },
            "type": "scattergl"
           }
          ],
          "scattermapbox": [
           {
            "marker": {
             "colorbar": {
              "outlinewidth": 0,
              "ticks": ""
             }
            },
            "type": "scattermapbox"
           }
          ],
          "scatterpolar": [
           {
            "marker": {
             "colorbar": {
              "outlinewidth": 0,
              "ticks": ""
             }
            },
            "type": "scatterpolar"
           }
          ],
          "scatterpolargl": [
           {
            "marker": {
             "colorbar": {
              "outlinewidth": 0,
              "ticks": ""
             }
            },
            "type": "scatterpolargl"
           }
          ],
          "scatterternary": [
           {
            "marker": {
             "colorbar": {
              "outlinewidth": 0,
              "ticks": ""
             }
            },
            "type": "scatterternary"
           }
          ],
          "surface": [
           {
            "colorbar": {
             "outlinewidth": 0,
             "ticks": ""
            },
            "colorscale": [
             [
              0,
              "#0d0887"
             ],
             [
              0.1111111111111111,
              "#46039f"
             ],
             [
              0.2222222222222222,
              "#7201a8"
             ],
             [
              0.3333333333333333,
              "#9c179e"
             ],
             [
              0.4444444444444444,
              "#bd3786"
             ],
             [
              0.5555555555555556,
              "#d8576b"
             ],
             [
              0.6666666666666666,
              "#ed7953"
             ],
             [
              0.7777777777777778,
              "#fb9f3a"
             ],
             [
              0.8888888888888888,
              "#fdca26"
             ],
             [
              1,
              "#f0f921"
             ]
            ],
            "type": "surface"
           }
          ],
          "table": [
           {
            "cells": {
             "fill": {
              "color": "#EBF0F8"
             },
             "line": {
              "color": "white"
             }
            },
            "header": {
             "fill": {
              "color": "#C8D4E3"
             },
             "line": {
              "color": "white"
             }
            },
            "type": "table"
           }
          ]
         },
         "layout": {
          "annotationdefaults": {
           "arrowcolor": "#2a3f5f",
           "arrowhead": 0,
           "arrowwidth": 1
          },
          "autotypenumbers": "strict",
          "coloraxis": {
           "colorbar": {
            "outlinewidth": 0,
            "ticks": ""
           }
          },
          "colorscale": {
           "diverging": [
            [
             0,
             "#8e0152"
            ],
            [
             0.1,
             "#c51b7d"
            ],
            [
             0.2,
             "#de77ae"
            ],
            [
             0.3,
             "#f1b6da"
            ],
            [
             0.4,
             "#fde0ef"
            ],
            [
             0.5,
             "#f7f7f7"
            ],
            [
             0.6,
             "#e6f5d0"
            ],
            [
             0.7,
             "#b8e186"
            ],
            [
             0.8,
             "#7fbc41"
            ],
            [
             0.9,
             "#4d9221"
            ],
            [
             1,
             "#276419"
            ]
           ],
           "sequential": [
            [
             0,
             "#0d0887"
            ],
            [
             0.1111111111111111,
             "#46039f"
            ],
            [
             0.2222222222222222,
             "#7201a8"
            ],
            [
             0.3333333333333333,
             "#9c179e"
            ],
            [
             0.4444444444444444,
             "#bd3786"
            ],
            [
             0.5555555555555556,
             "#d8576b"
            ],
            [
             0.6666666666666666,
             "#ed7953"
            ],
            [
             0.7777777777777778,
             "#fb9f3a"
            ],
            [
             0.8888888888888888,
             "#fdca26"
            ],
            [
             1,
             "#f0f921"
            ]
           ],
           "sequentialminus": [
            [
             0,
             "#0d0887"
            ],
            [
             0.1111111111111111,
             "#46039f"
            ],
            [
             0.2222222222222222,
             "#7201a8"
            ],
            [
             0.3333333333333333,
             "#9c179e"
            ],
            [
             0.4444444444444444,
             "#bd3786"
            ],
            [
             0.5555555555555556,
             "#d8576b"
            ],
            [
             0.6666666666666666,
             "#ed7953"
            ],
            [
             0.7777777777777778,
             "#fb9f3a"
            ],
            [
             0.8888888888888888,
             "#fdca26"
            ],
            [
             1,
             "#f0f921"
            ]
           ]
          },
          "colorway": [
           "#636efa",
           "#EF553B",
           "#00cc96",
           "#ab63fa",
           "#FFA15A",
           "#19d3f3",
           "#FF6692",
           "#B6E880",
           "#FF97FF",
           "#FECB52"
          ],
          "font": {
           "color": "#2a3f5f"
          },
          "geo": {
           "bgcolor": "white",
           "lakecolor": "white",
           "landcolor": "#E5ECF6",
           "showlakes": true,
           "showland": true,
           "subunitcolor": "white"
          },
          "hoverlabel": {
           "align": "left"
          },
          "hovermode": "closest",
          "mapbox": {
           "style": "light"
          },
          "paper_bgcolor": "white",
          "plot_bgcolor": "#E5ECF6",
          "polar": {
           "angularaxis": {
            "gridcolor": "white",
            "linecolor": "white",
            "ticks": ""
           },
           "bgcolor": "#E5ECF6",
           "radialaxis": {
            "gridcolor": "white",
            "linecolor": "white",
            "ticks": ""
           }
          },
          "scene": {
           "xaxis": {
            "backgroundcolor": "#E5ECF6",
            "gridcolor": "white",
            "gridwidth": 2,
            "linecolor": "white",
            "showbackground": true,
            "ticks": "",
            "zerolinecolor": "white"
           },
           "yaxis": {
            "backgroundcolor": "#E5ECF6",
            "gridcolor": "white",
            "gridwidth": 2,
            "linecolor": "white",
            "showbackground": true,
            "ticks": "",
            "zerolinecolor": "white"
           },
           "zaxis": {
            "backgroundcolor": "#E5ECF6",
            "gridcolor": "white",
            "gridwidth": 2,
            "linecolor": "white",
            "showbackground": true,
            "ticks": "",
            "zerolinecolor": "white"
           }
          },
          "shapedefaults": {
           "line": {
            "color": "#2a3f5f"
           }
          },
          "ternary": {
           "aaxis": {
            "gridcolor": "white",
            "linecolor": "white",
            "ticks": ""
           },
           "baxis": {
            "gridcolor": "white",
            "linecolor": "white",
            "ticks": ""
           },
           "bgcolor": "#E5ECF6",
           "caxis": {
            "gridcolor": "white",
            "linecolor": "white",
            "ticks": ""
           }
          },
          "title": {
           "x": 0.05
          },
          "xaxis": {
           "automargin": true,
           "gridcolor": "white",
           "linecolor": "white",
           "ticks": "",
           "title": {
            "standoff": 15
           },
           "zerolinecolor": "white",
           "zerolinewidth": 2
          },
          "yaxis": {
           "automargin": true,
           "gridcolor": "white",
           "linecolor": "white",
           "ticks": "",
           "title": {
            "standoff": 15
           },
           "zerolinecolor": "white",
           "zerolinewidth": 2
          }
         }
        }
       }
      }
     },
     "metadata": {},
     "output_type": "display_data"
    }
   ],
   "source": [
    "px.pie(dfr, values='count', names='license')"
   ]
  },
  {
   "cell_type": "code",
   "execution_count": 84,
   "metadata": {},
   "outputs": [
    {
     "data": {
      "application/vnd.plotly.v1+json": {
       "config": {
        "plotlyServerURL": "https://plot.ly"
       },
       "data": [
        {
         "hovertemplate": "created_at=%{x}<br>name=%{y}<extra></extra>",
         "legendgroup": "",
         "line": {
          "color": "#636efa",
          "dash": "solid"
         },
         "marker": {
          "symbol": "circle"
         },
         "mode": "lines",
         "name": "",
         "orientation": "v",
         "showlegend": false,
         "type": "scatter",
         "x": [
          "2012-01-23",
          "2013-11-14",
          "2014-07-03",
          "2014-07-15",
          "2014-07-16",
          "2014-07-17",
          "2014-11-17",
          "2015-03-10",
          "2015-06-06",
          "2015-06-18",
          "2015-07-24",
          "2015-11-07",
          "2016-02-27",
          "2016-03-30",
          "2016-05-06",
          "2016-07-30",
          "2016-08-07",
          "2016-08-29",
          "2016-10-18",
          "2016-11-16",
          "2016-12-12",
          "2017-02-11",
          "2017-02-22",
          "2017-05-05",
          "2017-06-05",
          "2017-08-19",
          "2017-09-24",
          "2017-11-24",
          "2017-11-26",
          "2017-12-07",
          "2017-12-16",
          "2017-12-17",
          "2017-12-25",
          "2018-01-30",
          "2018-03-19",
          "2018-03-29",
          "2018-04-06",
          "2018-04-21",
          "2018-05-26",
          "2018-06-21",
          "2018-07-18",
          "2018-08-02",
          "2018-08-06",
          "2018-08-29",
          "2018-09-06",
          "2018-09-08",
          "2018-09-10",
          "2018-10-31",
          "2018-11-22",
          "2018-12-08",
          "2018-12-16",
          "2018-12-27",
          "2019-01-13",
          "2019-01-19",
          "2019-01-29",
          "2019-02-06",
          "2019-03-08",
          "2019-03-21",
          "2019-03-27",
          "2019-05-25",
          "2019-06-09",
          "2019-06-22",
          "2019-07-15",
          "2019-07-23",
          "2019-07-31",
          "2019-08-05",
          "2019-08-07",
          "2019-08-09",
          "2019-09-16",
          "2019-10-03",
          "2019-10-21",
          "2019-11-29",
          "2020-04-15",
          "2020-04-29",
          "2020-05-25",
          "2020-05-29",
          "2020-05-31",
          "2020-07-01",
          "2020-07-15",
          "2020-07-17",
          "2020-07-21",
          "2020-08-09",
          "2020-08-19",
          "2020-08-25",
          "2020-08-28",
          "2020-09-02",
          "2020-09-18",
          "2020-09-22",
          "2020-09-24",
          "2020-10-24",
          "2020-11-02",
          "2020-11-19",
          "2020-12-15",
          "2021-02-05",
          "2021-02-16",
          "2021-02-22",
          "2021-03-06",
          "2021-03-09",
          "2021-03-13",
          "2021-04-02",
          "2021-04-09",
          "2021-04-28",
          "2021-05-07",
          "2021-05-21",
          "2021-06-04",
          "2021-06-23",
          "2021-06-25",
          "2021-07-10",
          "2021-07-13",
          "2021-07-19",
          "2021-07-20",
          "2021-07-25",
          "2021-07-29",
          "2021-08-08",
          "2021-08-16",
          "2021-09-18",
          "2021-10-14",
          "2021-10-22",
          "2021-10-28",
          "2021-11-01",
          "2021-11-10",
          "2021-12-18",
          "2021-12-25",
          "2022-01-08",
          "2022-01-13",
          "2022-02-12",
          "2022-02-14",
          "2022-02-27",
          "2022-03-06",
          "2022-03-12",
          "2022-03-28",
          "2022-04-11",
          "2022-05-04",
          "2022-06-01",
          "2022-06-17",
          "2022-07-18",
          "2022-08-07",
          "2022-08-08",
          "2022-08-12",
          "2022-09-04",
          "2022-09-08",
          "2022-09-18",
          "2022-09-20",
          "2022-09-26",
          "2022-10-10",
          "2022-10-17",
          "2022-10-20",
          "2022-10-25",
          "2022-11-02",
          "2022-11-05",
          "2022-11-11",
          "2022-11-13",
          "2022-11-22",
          "2022-11-25",
          "2022-12-02",
          "2022-12-03",
          "2022-12-08",
          "2022-12-13",
          "2022-12-16",
          "2022-12-21",
          "2022-12-26",
          "2022-12-31",
          "2023-01-11",
          "2023-01-13",
          "2023-01-14",
          "2023-01-18",
          "2023-01-23",
          "2023-01-25",
          "2023-01-28",
          "2023-01-29",
          "2023-01-31",
          "2023-02-01",
          "2023-02-02",
          "2023-02-05",
          "2023-02-06",
          "2023-02-08",
          "2023-02-09",
          "2023-02-13",
          "2023-02-15",
          "2023-02-16",
          "2023-02-17",
          "2023-02-19",
          "2023-02-23",
          "2023-02-26",
          "2023-02-27",
          "2023-02-28",
          "2023-03-03",
          "2023-03-04",
          "2023-03-06",
          "2023-03-08",
          "2023-03-09",
          "2023-03-10",
          "2023-03-11",
          "2023-03-13",
          "2023-03-14",
          "2023-03-15",
          "2023-03-17",
          "2023-03-18",
          "2023-03-19",
          "2023-03-21",
          "2023-03-22",
          "2023-03-23",
          "2023-03-24",
          "2023-03-25",
          "2023-03-26",
          "2023-03-27",
          "2023-03-28",
          "2023-03-30",
          "2023-03-31",
          "2023-04-01",
          "2023-04-02",
          "2023-04-06",
          "2023-04-08",
          "2023-04-10",
          "2023-04-11",
          "2023-04-12",
          "2023-04-13",
          "2023-04-14",
          "2023-04-15",
          "2023-04-16",
          "2023-04-17",
          "2023-04-18",
          "2023-04-19",
          "2023-04-21",
          "2023-04-22",
          "2023-04-24",
          "2023-04-25",
          "2023-04-26",
          "2023-04-28",
          "2023-04-29",
          "2023-05-02",
          "2023-05-03",
          "2023-05-04",
          "2023-05-05",
          "2023-05-06",
          "2023-05-07",
          "2023-05-08",
          "2023-05-09",
          "2023-05-10",
          "2023-05-11",
          "2023-05-12",
          "2023-05-13",
          "2023-05-14",
          "2023-05-15",
          "2023-05-17",
          "2023-05-18",
          "2023-05-19",
          "2023-05-21",
          "2023-05-22",
          "2023-05-23",
          "2023-05-24",
          "2023-05-25",
          "2023-05-28",
          "2023-05-31",
          "2023-06-01",
          "2023-06-02",
          "2023-06-05",
          "2023-06-09",
          "2023-06-12",
          "2023-06-13",
          "2023-06-14",
          "2023-06-15",
          "2023-06-16",
          "2023-06-17",
          "2023-06-18",
          "2023-06-19",
          "2023-06-20",
          "2023-06-22",
          "2023-06-24",
          "2023-06-26",
          "2023-06-28",
          "2023-06-30",
          "2023-07-02",
          "2023-07-06",
          "2023-07-09",
          "2023-07-10",
          "2023-07-11",
          "2023-07-12",
          "2023-07-13",
          "2023-07-14",
          "2023-07-15",
          "2023-07-17",
          "2023-07-18",
          "2023-07-19",
          "2023-07-20",
          "2023-07-21",
          "2023-07-22",
          "2023-07-23",
          "2023-07-25",
          "2023-07-27",
          "2023-07-28",
          "2023-07-29",
          "2023-08-01",
          "2023-08-02",
          "2023-08-03",
          "2023-08-07",
          "2023-08-08",
          "2023-08-09",
          "2023-08-12",
          "2023-08-16",
          "2023-08-17",
          "2023-08-18",
          "2023-08-21",
          "2023-08-22",
          "2023-08-23",
          "2023-08-25",
          "2023-08-26",
          "2023-08-28",
          "2023-08-30",
          "2023-09-02",
          "2023-09-05",
          "2023-09-10",
          "2023-09-11",
          "2023-09-12",
          "2023-09-13",
          "2023-09-17",
          "2023-09-21",
          "2023-09-22",
          "2023-09-25",
          "2023-09-26",
          "2023-09-27",
          "2023-09-29",
          "2023-10-06",
          "2023-10-10",
          "2023-10-11",
          "2023-10-13",
          "2023-10-17",
          "2023-10-18",
          "2023-10-19",
          "2023-10-20",
          "2023-10-24",
          "2023-10-27",
          "2023-10-30",
          "2023-10-31",
          "2023-11-01",
          "2023-11-04",
          "2023-11-07",
          "2023-11-10",
          "2023-11-11",
          "2023-11-13",
          "2023-11-16",
          "2023-11-27",
          "2023-11-28",
          "2023-11-29",
          "2023-12-03",
          "2023-12-06",
          "2023-12-11",
          "2023-12-12",
          "2023-12-13",
          "2023-12-15",
          "2023-12-20",
          "2024-01-08",
          "2024-01-14",
          "2024-01-15",
          "2024-01-19",
          "2024-01-22",
          "2024-01-23",
          "2024-01-29",
          "2024-01-30",
          "2024-02-06",
          "2024-02-12",
          "2024-02-13",
          "2024-02-16",
          "2024-02-20",
          "2024-02-23",
          "2024-02-28",
          "2024-03-06",
          "2024-03-07",
          "2024-03-08",
          "2024-03-12",
          "2024-03-17",
          "2024-03-23",
          "2024-03-26",
          "2024-04-05"
         ],
         "xaxis": "x",
         "y": [
          1,
          1,
          1,
          1,
          1,
          1,
          1,
          1,
          1,
          1,
          1,
          1,
          1,
          1,
          1,
          1,
          1,
          1,
          1,
          1,
          1,
          1,
          1,
          1,
          1,
          1,
          1,
          1,
          1,
          1,
          1,
          1,
          1,
          1,
          1,
          1,
          1,
          1,
          1,
          1,
          1,
          1,
          1,
          1,
          1,
          1,
          1,
          1,
          1,
          1,
          1,
          1,
          1,
          1,
          1,
          1,
          1,
          1,
          1,
          1,
          1,
          1,
          1,
          1,
          1,
          1,
          1,
          1,
          1,
          1,
          1,
          1,
          1,
          1,
          1,
          1,
          1,
          1,
          1,
          1,
          2,
          1,
          1,
          1,
          1,
          1,
          1,
          1,
          1,
          1,
          1,
          1,
          1,
          1,
          1,
          1,
          1,
          1,
          1,
          1,
          1,
          1,
          1,
          1,
          1,
          1,
          1,
          1,
          1,
          1,
          1,
          1,
          1,
          1,
          1,
          1,
          1,
          1,
          1,
          1,
          1,
          1,
          1,
          1,
          1,
          1,
          1,
          1,
          1,
          1,
          1,
          1,
          1,
          1,
          1,
          2,
          1,
          1,
          1,
          1,
          1,
          1,
          1,
          1,
          1,
          1,
          1,
          1,
          1,
          1,
          1,
          1,
          1,
          1,
          1,
          2,
          1,
          1,
          1,
          1,
          1,
          2,
          1,
          1,
          1,
          1,
          1,
          1,
          1,
          1,
          3,
          1,
          1,
          1,
          1,
          2,
          2,
          1,
          1,
          3,
          3,
          2,
          2,
          1,
          3,
          2,
          1,
          1,
          3,
          1,
          1,
          4,
          2,
          1,
          1,
          1,
          1,
          3,
          7,
          4,
          3,
          2,
          5,
          1,
          1,
          3,
          1,
          2,
          4,
          2,
          1,
          3,
          3,
          3,
          1,
          1,
          3,
          1,
          2,
          1,
          2,
          2,
          3,
          1,
          3,
          2,
          1,
          1,
          2,
          2,
          3,
          1,
          1,
          3,
          1,
          1,
          2,
          1,
          1,
          4,
          5,
          3,
          1,
          2,
          1,
          1,
          2,
          2,
          2,
          5,
          3,
          2,
          2,
          1,
          1,
          1,
          1,
          1,
          1,
          1,
          3,
          2,
          1,
          1,
          1,
          3,
          6,
          1,
          2,
          1,
          1,
          2,
          1,
          2,
          1,
          1,
          1,
          1,
          1,
          1,
          1,
          2,
          3,
          2,
          2,
          1,
          2,
          1,
          2,
          2,
          1,
          1,
          2,
          1,
          2,
          1,
          3,
          2,
          2,
          3,
          2,
          2,
          2,
          1,
          1,
          1,
          1,
          1,
          2,
          1,
          1,
          1,
          2,
          1,
          1,
          1,
          2,
          1,
          1,
          1,
          1,
          3,
          1,
          2,
          1,
          1,
          1,
          2,
          1,
          1,
          2,
          1,
          1,
          1,
          1,
          2,
          1,
          2,
          1,
          2,
          2,
          1,
          1,
          1,
          1,
          1,
          1,
          2,
          1,
          2,
          1,
          3,
          2,
          1,
          1,
          2,
          1,
          1,
          1,
          2,
          1,
          1,
          1,
          1,
          1,
          1,
          1,
          1,
          1,
          1,
          1,
          1,
          1,
          1
         ],
         "yaxis": "y"
        }
       ],
       "layout": {
        "legend": {
         "tracegroupgap": 0
        },
        "margin": {
         "t": 60
        },
        "template": {
         "data": {
          "bar": [
           {
            "error_x": {
             "color": "#2a3f5f"
            },
            "error_y": {
             "color": "#2a3f5f"
            },
            "marker": {
             "line": {
              "color": "#E5ECF6",
              "width": 0.5
             },
             "pattern": {
              "fillmode": "overlay",
              "size": 10,
              "solidity": 0.2
             }
            },
            "type": "bar"
           }
          ],
          "barpolar": [
           {
            "marker": {
             "line": {
              "color": "#E5ECF6",
              "width": 0.5
             },
             "pattern": {
              "fillmode": "overlay",
              "size": 10,
              "solidity": 0.2
             }
            },
            "type": "barpolar"
           }
          ],
          "carpet": [
           {
            "aaxis": {
             "endlinecolor": "#2a3f5f",
             "gridcolor": "white",
             "linecolor": "white",
             "minorgridcolor": "white",
             "startlinecolor": "#2a3f5f"
            },
            "baxis": {
             "endlinecolor": "#2a3f5f",
             "gridcolor": "white",
             "linecolor": "white",
             "minorgridcolor": "white",
             "startlinecolor": "#2a3f5f"
            },
            "type": "carpet"
           }
          ],
          "choropleth": [
           {
            "colorbar": {
             "outlinewidth": 0,
             "ticks": ""
            },
            "type": "choropleth"
           }
          ],
          "contour": [
           {
            "colorbar": {
             "outlinewidth": 0,
             "ticks": ""
            },
            "colorscale": [
             [
              0,
              "#0d0887"
             ],
             [
              0.1111111111111111,
              "#46039f"
             ],
             [
              0.2222222222222222,
              "#7201a8"
             ],
             [
              0.3333333333333333,
              "#9c179e"
             ],
             [
              0.4444444444444444,
              "#bd3786"
             ],
             [
              0.5555555555555556,
              "#d8576b"
             ],
             [
              0.6666666666666666,
              "#ed7953"
             ],
             [
              0.7777777777777778,
              "#fb9f3a"
             ],
             [
              0.8888888888888888,
              "#fdca26"
             ],
             [
              1,
              "#f0f921"
             ]
            ],
            "type": "contour"
           }
          ],
          "contourcarpet": [
           {
            "colorbar": {
             "outlinewidth": 0,
             "ticks": ""
            },
            "type": "contourcarpet"
           }
          ],
          "heatmap": [
           {
            "colorbar": {
             "outlinewidth": 0,
             "ticks": ""
            },
            "colorscale": [
             [
              0,
              "#0d0887"
             ],
             [
              0.1111111111111111,
              "#46039f"
             ],
             [
              0.2222222222222222,
              "#7201a8"
             ],
             [
              0.3333333333333333,
              "#9c179e"
             ],
             [
              0.4444444444444444,
              "#bd3786"
             ],
             [
              0.5555555555555556,
              "#d8576b"
             ],
             [
              0.6666666666666666,
              "#ed7953"
             ],
             [
              0.7777777777777778,
              "#fb9f3a"
             ],
             [
              0.8888888888888888,
              "#fdca26"
             ],
             [
              1,
              "#f0f921"
             ]
            ],
            "type": "heatmap"
           }
          ],
          "heatmapgl": [
           {
            "colorbar": {
             "outlinewidth": 0,
             "ticks": ""
            },
            "colorscale": [
             [
              0,
              "#0d0887"
             ],
             [
              0.1111111111111111,
              "#46039f"
             ],
             [
              0.2222222222222222,
              "#7201a8"
             ],
             [
              0.3333333333333333,
              "#9c179e"
             ],
             [
              0.4444444444444444,
              "#bd3786"
             ],
             [
              0.5555555555555556,
              "#d8576b"
             ],
             [
              0.6666666666666666,
              "#ed7953"
             ],
             [
              0.7777777777777778,
              "#fb9f3a"
             ],
             [
              0.8888888888888888,
              "#fdca26"
             ],
             [
              1,
              "#f0f921"
             ]
            ],
            "type": "heatmapgl"
           }
          ],
          "histogram": [
           {
            "marker": {
             "pattern": {
              "fillmode": "overlay",
              "size": 10,
              "solidity": 0.2
             }
            },
            "type": "histogram"
           }
          ],
          "histogram2d": [
           {
            "colorbar": {
             "outlinewidth": 0,
             "ticks": ""
            },
            "colorscale": [
             [
              0,
              "#0d0887"
             ],
             [
              0.1111111111111111,
              "#46039f"
             ],
             [
              0.2222222222222222,
              "#7201a8"
             ],
             [
              0.3333333333333333,
              "#9c179e"
             ],
             [
              0.4444444444444444,
              "#bd3786"
             ],
             [
              0.5555555555555556,
              "#d8576b"
             ],
             [
              0.6666666666666666,
              "#ed7953"
             ],
             [
              0.7777777777777778,
              "#fb9f3a"
             ],
             [
              0.8888888888888888,
              "#fdca26"
             ],
             [
              1,
              "#f0f921"
             ]
            ],
            "type": "histogram2d"
           }
          ],
          "histogram2dcontour": [
           {
            "colorbar": {
             "outlinewidth": 0,
             "ticks": ""
            },
            "colorscale": [
             [
              0,
              "#0d0887"
             ],
             [
              0.1111111111111111,
              "#46039f"
             ],
             [
              0.2222222222222222,
              "#7201a8"
             ],
             [
              0.3333333333333333,
              "#9c179e"
             ],
             [
              0.4444444444444444,
              "#bd3786"
             ],
             [
              0.5555555555555556,
              "#d8576b"
             ],
             [
              0.6666666666666666,
              "#ed7953"
             ],
             [
              0.7777777777777778,
              "#fb9f3a"
             ],
             [
              0.8888888888888888,
              "#fdca26"
             ],
             [
              1,
              "#f0f921"
             ]
            ],
            "type": "histogram2dcontour"
           }
          ],
          "mesh3d": [
           {
            "colorbar": {
             "outlinewidth": 0,
             "ticks": ""
            },
            "type": "mesh3d"
           }
          ],
          "parcoords": [
           {
            "line": {
             "colorbar": {
              "outlinewidth": 0,
              "ticks": ""
             }
            },
            "type": "parcoords"
           }
          ],
          "pie": [
           {
            "automargin": true,
            "type": "pie"
           }
          ],
          "scatter": [
           {
            "fillpattern": {
             "fillmode": "overlay",
             "size": 10,
             "solidity": 0.2
            },
            "type": "scatter"
           }
          ],
          "scatter3d": [
           {
            "line": {
             "colorbar": {
              "outlinewidth": 0,
              "ticks": ""
             }
            },
            "marker": {
             "colorbar": {
              "outlinewidth": 0,
              "ticks": ""
             }
            },
            "type": "scatter3d"
           }
          ],
          "scattercarpet": [
           {
            "marker": {
             "colorbar": {
              "outlinewidth": 0,
              "ticks": ""
             }
            },
            "type": "scattercarpet"
           }
          ],
          "scattergeo": [
           {
            "marker": {
             "colorbar": {
              "outlinewidth": 0,
              "ticks": ""
             }
            },
            "type": "scattergeo"
           }
          ],
          "scattergl": [
           {
            "marker": {
             "colorbar": {
              "outlinewidth": 0,
              "ticks": ""
             }
            },
            "type": "scattergl"
           }
          ],
          "scattermapbox": [
           {
            "marker": {
             "colorbar": {
              "outlinewidth": 0,
              "ticks": ""
             }
            },
            "type": "scattermapbox"
           }
          ],
          "scatterpolar": [
           {
            "marker": {
             "colorbar": {
              "outlinewidth": 0,
              "ticks": ""
             }
            },
            "type": "scatterpolar"
           }
          ],
          "scatterpolargl": [
           {
            "marker": {
             "colorbar": {
              "outlinewidth": 0,
              "ticks": ""
             }
            },
            "type": "scatterpolargl"
           }
          ],
          "scatterternary": [
           {
            "marker": {
             "colorbar": {
              "outlinewidth": 0,
              "ticks": ""
             }
            },
            "type": "scatterternary"
           }
          ],
          "surface": [
           {
            "colorbar": {
             "outlinewidth": 0,
             "ticks": ""
            },
            "colorscale": [
             [
              0,
              "#0d0887"
             ],
             [
              0.1111111111111111,
              "#46039f"
             ],
             [
              0.2222222222222222,
              "#7201a8"
             ],
             [
              0.3333333333333333,
              "#9c179e"
             ],
             [
              0.4444444444444444,
              "#bd3786"
             ],
             [
              0.5555555555555556,
              "#d8576b"
             ],
             [
              0.6666666666666666,
              "#ed7953"
             ],
             [
              0.7777777777777778,
              "#fb9f3a"
             ],
             [
              0.8888888888888888,
              "#fdca26"
             ],
             [
              1,
              "#f0f921"
             ]
            ],
            "type": "surface"
           }
          ],
          "table": [
           {
            "cells": {
             "fill": {
              "color": "#EBF0F8"
             },
             "line": {
              "color": "white"
             }
            },
            "header": {
             "fill": {
              "color": "#C8D4E3"
             },
             "line": {
              "color": "white"
             }
            },
            "type": "table"
           }
          ]
         },
         "layout": {
          "annotationdefaults": {
           "arrowcolor": "#2a3f5f",
           "arrowhead": 0,
           "arrowwidth": 1
          },
          "autotypenumbers": "strict",
          "coloraxis": {
           "colorbar": {
            "outlinewidth": 0,
            "ticks": ""
           }
          },
          "colorscale": {
           "diverging": [
            [
             0,
             "#8e0152"
            ],
            [
             0.1,
             "#c51b7d"
            ],
            [
             0.2,
             "#de77ae"
            ],
            [
             0.3,
             "#f1b6da"
            ],
            [
             0.4,
             "#fde0ef"
            ],
            [
             0.5,
             "#f7f7f7"
            ],
            [
             0.6,
             "#e6f5d0"
            ],
            [
             0.7,
             "#b8e186"
            ],
            [
             0.8,
             "#7fbc41"
            ],
            [
             0.9,
             "#4d9221"
            ],
            [
             1,
             "#276419"
            ]
           ],
           "sequential": [
            [
             0,
             "#0d0887"
            ],
            [
             0.1111111111111111,
             "#46039f"
            ],
            [
             0.2222222222222222,
             "#7201a8"
            ],
            [
             0.3333333333333333,
             "#9c179e"
            ],
            [
             0.4444444444444444,
             "#bd3786"
            ],
            [
             0.5555555555555556,
             "#d8576b"
            ],
            [
             0.6666666666666666,
             "#ed7953"
            ],
            [
             0.7777777777777778,
             "#fb9f3a"
            ],
            [
             0.8888888888888888,
             "#fdca26"
            ],
            [
             1,
             "#f0f921"
            ]
           ],
           "sequentialminus": [
            [
             0,
             "#0d0887"
            ],
            [
             0.1111111111111111,
             "#46039f"
            ],
            [
             0.2222222222222222,
             "#7201a8"
            ],
            [
             0.3333333333333333,
             "#9c179e"
            ],
            [
             0.4444444444444444,
             "#bd3786"
            ],
            [
             0.5555555555555556,
             "#d8576b"
            ],
            [
             0.6666666666666666,
             "#ed7953"
            ],
            [
             0.7777777777777778,
             "#fb9f3a"
            ],
            [
             0.8888888888888888,
             "#fdca26"
            ],
            [
             1,
             "#f0f921"
            ]
           ]
          },
          "colorway": [
           "#636efa",
           "#EF553B",
           "#00cc96",
           "#ab63fa",
           "#FFA15A",
           "#19d3f3",
           "#FF6692",
           "#B6E880",
           "#FF97FF",
           "#FECB52"
          ],
          "font": {
           "color": "#2a3f5f"
          },
          "geo": {
           "bgcolor": "white",
           "lakecolor": "white",
           "landcolor": "#E5ECF6",
           "showlakes": true,
           "showland": true,
           "subunitcolor": "white"
          },
          "hoverlabel": {
           "align": "left"
          },
          "hovermode": "closest",
          "mapbox": {
           "style": "light"
          },
          "paper_bgcolor": "white",
          "plot_bgcolor": "#E5ECF6",
          "polar": {
           "angularaxis": {
            "gridcolor": "white",
            "linecolor": "white",
            "ticks": ""
           },
           "bgcolor": "#E5ECF6",
           "radialaxis": {
            "gridcolor": "white",
            "linecolor": "white",
            "ticks": ""
           }
          },
          "scene": {
           "xaxis": {
            "backgroundcolor": "#E5ECF6",
            "gridcolor": "white",
            "gridwidth": 2,
            "linecolor": "white",
            "showbackground": true,
            "ticks": "",
            "zerolinecolor": "white"
           },
           "yaxis": {
            "backgroundcolor": "#E5ECF6",
            "gridcolor": "white",
            "gridwidth": 2,
            "linecolor": "white",
            "showbackground": true,
            "ticks": "",
            "zerolinecolor": "white"
           },
           "zaxis": {
            "backgroundcolor": "#E5ECF6",
            "gridcolor": "white",
            "gridwidth": 2,
            "linecolor": "white",
            "showbackground": true,
            "ticks": "",
            "zerolinecolor": "white"
           }
          },
          "shapedefaults": {
           "line": {
            "color": "#2a3f5f"
           }
          },
          "ternary": {
           "aaxis": {
            "gridcolor": "white",
            "linecolor": "white",
            "ticks": ""
           },
           "baxis": {
            "gridcolor": "white",
            "linecolor": "white",
            "ticks": ""
           },
           "bgcolor": "#E5ECF6",
           "caxis": {
            "gridcolor": "white",
            "linecolor": "white",
            "ticks": ""
           }
          },
          "title": {
           "x": 0.05
          },
          "xaxis": {
           "automargin": true,
           "gridcolor": "white",
           "linecolor": "white",
           "ticks": "",
           "title": {
            "standoff": 15
           },
           "zerolinecolor": "white",
           "zerolinewidth": 2
          },
          "yaxis": {
           "automargin": true,
           "gridcolor": "white",
           "linecolor": "white",
           "ticks": "",
           "title": {
            "standoff": 15
           },
           "zerolinecolor": "white",
           "zerolinewidth": 2
          }
         }
        },
        "xaxis": {
         "anchor": "y",
         "domain": [
          0,
          1
         ],
         "title": {
          "text": "created_at"
         }
        },
        "yaxis": {
         "anchor": "x",
         "domain": [
          0,
          1
         ],
         "title": {
          "text": "name"
         }
        }
       }
      }
     },
     "metadata": {},
     "output_type": "display_data"
    }
   ],
   "source": [
    "fig = px.line(repo_counts, x='created_at', y='name', markers=False)\n",
    "fig"
   ]
  },
  {
   "cell_type": "code",
   "execution_count": null,
   "metadata": {},
   "outputs": [],
   "source": []
  }
 ],
 "metadata": {
  "kernelspec": {
   "display_name": "Python 3",
   "language": "python",
   "name": "python3"
  },
  "language_info": {
   "codemirror_mode": {
    "name": "ipython",
    "version": 3
   },
   "file_extension": ".py",
   "mimetype": "text/x-python",
   "name": "python",
   "nbconvert_exporter": "python",
   "pygments_lexer": "ipython3",
   "version": "3.11.4"
  }
 },
 "nbformat": 4,
 "nbformat_minor": 2
}

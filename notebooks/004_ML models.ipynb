{
 "cells": [
  {
   "cell_type": "code",
   "execution_count": 8,
   "metadata": {},
   "outputs": [
    {
     "name": "stdout",
     "output_type": "stream",
     "text": [
      "Mean Squared Error: 17481221.651532706\n",
      "Root Mean Squared Error: 4181.055088315951\n"
     ]
    }
   ],
   "source": [
    "import pandas as pd\n",
    "from sklearn.model_selection import train_test_split\n",
    "from sklearn.ensemble import RandomForestRegressor\n",
    "from sklearn.metrics import mean_squared_error\n",
    "from sklearn.preprocessing import LabelEncoder\n",
    "\n",
    "# Load the dataset\n",
    "df = pd.read_csv('../data/github_final.csv')\n",
    "\n",
    "# Preprocessing\n",
    "# For simplicity, let's exclude text-based features and focus on numeric ones and 'license' as a categorical feature\n",
    "df['license'] = LabelEncoder().fit_transform(df['license'])  # Convert 'license' to numeric\n",
    "features = ['license', 'days_since_created', 'forks_day', 'stars_day']\n",
    "X = df[features]\n",
    "y = df['stargazers_count']\n",
    "\n",
    "# Split the dataset into training and testing sets\n",
    "X_train, X_test, y_train, y_test = train_test_split(X, y, test_size=0.2, random_state=42)\n",
    "\n",
    "# Initialize and train the Random Forest Regressor\n",
    "rf_regressor = RandomForestRegressor(n_estimators=100, random_state=42)\n",
    "rf_regressor.fit(X_train, y_train)\n",
    "\n",
    "# Predict on the testing set\n",
    "y_pred = rf_regressor.predict(X_test)\n",
    "\n",
    "# Evaluate the model\n",
    "mse = mean_squared_error(y_test, y_pred)\n",
    "rmse = mse ** 0.5\n",
    "\n",
    "print(f\"Mean Squared Error: {mse}\")\n",
    "print(f\"Root Mean Squared Error: {rmse}\")\n"
   ]
  },
  {
   "cell_type": "markdown",
   "metadata": {},
   "source": [
    "## Linear Regression"
   ]
  },
  {
   "cell_type": "code",
   "execution_count": 15,
   "metadata": {},
   "outputs": [
    {
     "name": "stdout",
     "output_type": "stream",
     "text": [
      "Mean Squared Error: 66075592.73115545\n",
      "Root Mean Squared Error: 8128.689484237631\n"
     ]
    }
   ],
   "source": [
    "from sklearn.linear_model import LinearRegression\n",
    "from sklearn.metrics import mean_squared_error\n",
    "from sklearn.model_selection import train_test_split\n",
    "\n",
    "# Load the dataset\n",
    "df = pd.read_csv('../data/github_final.csv')\n",
    "\n",
    "# Preprocessing\n",
    "# For simplicity, let's exclude text-based features and focus on numeric ones and 'license' as a categorical feature\n",
    "features = ['forks_count', 'days_since_created']\n",
    "X = df[features]\n",
    "y = df['stargazers_count']\n",
    "\n",
    "# Split the dataset into training and testing sets\n",
    "X_train, X_test, y_train, y_test = train_test_split(X, y, test_size=0.2, random_state=42)\n",
    "\n",
    "# Initialize and train the Linear Regression model\n",
    "linear_regressor = LinearRegression()\n",
    "linear_regressor.fit(X_train, y_train)\n",
    "\n",
    "# Predict on the testing set\n",
    "y_pred = linear_regressor.predict(X_test)\n",
    "\n",
    "# Evaluate the model\n",
    "mse = mean_squared_error(y_test, y_pred)\n",
    "rmse = mse ** 0.5\n",
    "\n",
    "print(f\"Mean Squared Error: {mse}\")\n",
    "print(f\"Root Mean Squared Error: {rmse}\")\n"
   ]
  },
  {
   "cell_type": "code",
   "execution_count": 16,
   "metadata": {},
   "outputs": [
    {
     "name": "stdout",
     "output_type": "stream",
     "text": [
      "Coefficients:\n",
      "forks_count: 1.9459109661372487\n",
      "days_since_created: 1.0631651295619904\n",
      "\n",
      "Intercept: 3512.4868207386025\n"
     ]
    }
   ],
   "source": [
    "# Assuming the Linear Regression model is already trained (linear_regressor)\n",
    "\n",
    "# Get the coefficients and the intercept\n",
    "coefficients = linear_regressor.coef_\n",
    "intercept = linear_regressor.intercept_\n",
    "\n",
    "# Display the coefficients\n",
    "print(\"Coefficients:\")\n",
    "for feature, coef in zip(features, coefficients):\n",
    "    print(f\"{feature}: {coef}\")\n",
    "\n",
    "# Display the intercept\n",
    "print(f\"\\nIntercept: {intercept}\")\n"
   ]
  },
  {
   "cell_type": "markdown",
   "metadata": {},
   "source": [
    "### Interpretation:\n",
    "**Coefficients:** Each coefficient tells you the expected change in the stargazers_count (popularity) for a one-unit increase in the respective feature, assuming all other features remain constant. For instance, if the coefficient for forks_day is 200, it means that for each additional fork per day, the model predicts an increase of 200 in the stargazers_count, all else being equal.\n",
    "\n",
    "Intercept: The intercept represents the model's prediction for the target variable when all the features are zero. In many contexts, the intercept might not have a practical interpretation (e.g., it's unlikely all features would be zero), but it's a necessary part of the model to align the regression line with the data.\n",
    "\n",
    "Understanding these coefficients and the intercept helps in deciphering how each feature influences the prediction, providing a clearer picture of the data's underlying patterns. This interpretability is one of the main advantages of Linear Regression, allowing stakeholders to make informed decisions based on the model's insights."
   ]
  },
  {
   "cell_type": "code",
   "execution_count": null,
   "metadata": {},
   "outputs": [],
   "source": []
  }
 ],
 "metadata": {
  "kernelspec": {
   "display_name": "Python 3",
   "language": "python",
   "name": "python3"
  },
  "language_info": {
   "codemirror_mode": {
    "name": "ipython",
    "version": 3
   },
   "file_extension": ".py",
   "mimetype": "text/x-python",
   "name": "python",
   "nbconvert_exporter": "python",
   "pygments_lexer": "ipython3",
   "version": "3.11.4"
  }
 },
 "nbformat": 4,
 "nbformat_minor": 2
}
